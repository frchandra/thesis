{
 "cells": [
  {
   "cell_type": "code",
   "execution_count": 3,
   "id": "initial_id",
   "metadata": {
    "collapsed": true,
    "ExecuteTime": {
     "end_time": "2024-01-18T07:15:01.772853125Z",
     "start_time": "2024-01-18T07:15:01.660541231Z"
    }
   },
   "outputs": [],
   "source": [
    "import pandas as pd\n",
    "import plotly.express as px\n",
    "from IPython.display import display"
   ]
  },
  {
   "cell_type": "code",
   "outputs": [],
   "source": [
    "#Loading UDP CSVs\n",
    "folderName = \"baseline-udp-onoff/2024-01-18_11:30:26\"\n",
    "udpClientCsv = f'../data/baseline_jan18/{folderName}/udp-flow0-client.csv'\n",
    "udpClientDf_1 = pd.read_csv(udpClientCsv)\n",
    "\n",
    "folderName = \"baseline-udp-onoff/2024-01-18_12:10:22\"\n",
    "udpClientCsv = f'../../build/scratch/experiment/{folderName}/udp-flow0-client.csv'\n",
    "udpClientDf_2 = pd.read_csv(udpClientCsv)\n",
    "\n",
    "folderName = \"baseline-udp-onoff/2024-01-18_12:14:16\"\n",
    "udpClientCsv = f'../../build/scratch/experiment/{folderName}/udp-flow0-client.csv'\n",
    "udpClientDf_3 = pd.read_csv(udpClientCsv)\n"
   ],
   "metadata": {
    "collapsed": false,
    "ExecuteTime": {
     "end_time": "2024-01-18T07:37:08.171112237Z",
     "start_time": "2024-01-18T07:37:08.127528829Z"
    }
   },
   "id": "d47eef479cfd9810",
   "execution_count": 22
  },
  {
   "cell_type": "code",
   "outputs": [],
   "source": [
    "udpClientDf_1['kbps'] = pd.to_numeric(udpClientDf_1['kbps'], errors='coerce')\n",
    "udpClientDf_2['kbps'] = pd.to_numeric(udpClientDf_2['kbps'], errors='coerce')\n",
    "udpClientDf_3['kbps'] = pd.to_numeric(udpClientDf_3['kbps'], errors='coerce')\n",
    "\n",
    "figUdp = px.line(udpClientDf_1, x=udpClientDf_1.index, y='kbps', title='kbps values over index', labels={'index': 'Index', 'kbps': 'kbps'})\n",
    "figUdp.add_trace(px.line(udpClientDf_2, x=udpClientDf_2.index, y='kbps').data[0])\n",
    "figUdp.add_trace(px.line(udpClientDf_3, x=udpClientDf_3.index, y='kbps').data[0])\n",
    "figUdp.update_layout(height=800)\n",
    "figUdp.show()"
   ],
   "metadata": {
    "collapsed": false
   },
   "id": "c1ed3c7ffdc18a00",
   "execution_count": null
  },
  {
   "cell_type": "code",
   "outputs": [],
   "source": [
    "#Loading TCP CSVs\n",
    "folderName = \"baseline-tcp-bulksend/2024-01-18_11:30:09\"\n",
    "tcpClientCsv = f'../data/baseline_jan18/{folderName}/tcp-flow0-client.csv'\n",
    "tcpClientDf_1 = pd.read_csv(tcpClientCsv)\n",
    "\n",
    "folderName = \"baseline-tcp-bulksend/2024-01-18_12:10:31\"\n",
    "tcpClientCsv = f'../data/baseline_jan18/{folderName}/tcp-flow0-client.csv'\n",
    "tcpClientDf_2 = pd.read_csv(tcpClientCsv)\n",
    "\n",
    "folderName = \"baseline-tcp-bulksend/2024-01-18_12:24:32\"\n",
    "tcpClientCsv = f'../data/baseline_jan18/{folderName}/tcp-flow0-client.csv'\n",
    "tcpClientDf_3 = pd.read_csv(tcpClientCsv)\n",
    "\n",
    "folderName = \"baseline-tcp-bulksend/2024-01-18_11:30:09\"\n",
    "tcpServerCsv = f'../data/baseline_jan18/{folderName}/tcp-flow0-server.csv'\n",
    "tcpServerDf_1 = pd.read_csv(tcpServerCsv)\n",
    "\n",
    "folderName = \"baseline-tcp-bulksend/2024-01-18_12:10:31\"\n",
    "tcpServerCsv = f'../data/baseline_jan18/{folderName}/tcp-flow0-server.csv'\n",
    "tcpServerDf_2 = pd.read_csv(tcpServerCsv)\n",
    "\n",
    "folderName = \"baseline-tcp-bulksend/2024-01-18_12:24:32\"\n",
    "tcpServerCsv = f'../data/baseline_jan18/{folderName}/tcp-flow0-server.csv'\n",
    "tcpServerDf_3 = pd.read_csv(tcpServerCsv)\n"
   ],
   "metadata": {
    "collapsed": false,
    "ExecuteTime": {
     "end_time": "2024-01-18T07:37:10.661974536Z",
     "start_time": "2024-01-18T07:37:10.651576674Z"
    }
   },
   "id": "8f0636d7f59763b0",
   "execution_count": 23
  },
  {
   "cell_type": "code",
   "outputs": [],
   "source": [
    "tcpClientDf_1['kbps'] = pd.to_numeric(tcpClientDf_1['kbps'], errors='coerce')\n",
    "tcpClientDf_2['kbps'] = pd.to_numeric(tcpClientDf_2['kbps'], errors='coerce')\n",
    "tcpClientDf_3['kbps'] = pd.to_numeric(tcpClientDf_3['kbps'], errors='coerce')\n",
    "tcpServerDf_1['kbps'] = pd.to_numeric(tcpServerDf_1['kbps'], errors='coerce')\n",
    "tcpServerDf_2['kbps'] = pd.to_numeric(tcpServerDf_2['kbps'], errors='coerce')\n",
    "tcpServerDf_3['kbps'] = pd.to_numeric(tcpServerDf_3['kbps'], errors='coerce')\n",
    "\n",
    "figTcp = px.line(tcpClientDf_1, x=tcpClientDf_1.index, y='kbps', title='kbps values over index', labels={'index': 'Index', 'kbps': 'kbps'})\n",
    "figTcp.add_trace(px.line(tcpClientDf_2, x=tcpClientDf_2.index, y='kbps').data[0])\n",
    "figTcp.add_trace(px.line(tcpClientDf_3, x=tcpClientDf_3.index, y='kbps').data[0])\n",
    "figTcp.add_trace(px.line(tcpServerDf_1, x=tcpServerDf_1.index, y='kbps').data[0])\n",
    "figTcp.add_trace(px.line(tcpServerDf_2, x=tcpServerDf_2.index, y='kbps').data[0])\n",
    "figTcp.add_trace(px.line(tcpServerDf_3, x=tcpServerDf_3.index, y='kbps').data[0])\n",
    "figTcp.update_layout(height=800)\n",
    "figTcp.show()"
   ],
   "metadata": {
    "collapsed": false
   },
   "id": "6cb25bfa0ff294cb",
   "execution_count": null
  },
  {
   "cell_type": "code",
   "outputs": [],
   "source": [
    "#Loading QUIC CSVs\n",
    "folderName = \"baseline-quic-bulksend/2024-01-18_11:30:17\"\n",
    "quicClientCsv = f'../data/baseline_jan18/{folderName}/quic-flow0-client.csv'\n",
    "quicClientDf_1 = pd.read_csv(quicClientCsv)"
   ],
   "metadata": {
    "collapsed": false,
    "ExecuteTime": {
     "end_time": "2024-01-18T07:46:30.989253903Z",
     "start_time": "2024-01-18T07:46:30.983251541Z"
    }
   },
   "id": "40b7e96b8eb9b647",
   "execution_count": 27
  },
  {
   "cell_type": "code",
   "outputs": [],
   "source": [
    "quicClientDf_1['kbps'] = pd.to_numeric(quicClientDf_1['kbps'], errors='coerce')\n",
    "figQuic = px.line(quicClientDf_1, x=quicClientDf_1.index, y='kbps', title='kbps values over index', labels={'index': 'Index', 'kbps': 'kbps'})\n",
    "figQuic.update_layout(height=800)\n",
    "figQuic.show()"
   ],
   "metadata": {
    "collapsed": false
   },
   "id": "a2c0109604e6c38f",
   "execution_count": null
  },
  {
   "cell_type": "code",
   "outputs": [
    {
     "data": {
      "application/vnd.plotly.v1+json": {
       "data": [
        {
         "hovertemplate": "source=UDP<br>Index=%{x}<br>kbps=%{y}<extra></extra>",
         "legendgroup": "UDP",
         "line": {
          "color": "#636efa",
          "dash": "solid"
         },
         "marker": {
          "symbol": "circle"
         },
         "mode": "lines",
         "name": "UDP",
         "orientation": "v",
         "showlegend": true,
         "x": [
          0,
          1,
          2,
          3,
          4,
          5,
          6,
          7,
          8,
          9,
          10,
          11,
          12,
          13,
          14,
          15,
          16,
          17,
          18,
          19,
          20,
          21,
          22,
          23,
          24,
          25,
          26,
          27,
          28,
          29,
          30,
          31,
          32,
          33,
          34,
          35,
          36,
          37,
          38,
          39,
          40,
          41,
          42,
          43,
          44,
          45,
          46,
          47,
          48,
          49,
          50,
          51,
          52,
          53,
          54,
          55,
          56,
          57,
          58,
          59
         ],
         "xaxis": "x",
         "y": [
          58205.3,
          58680.9,
          58582.0,
          58640.7,
          58523.6,
          58674.2,
          58639.9,
          58617.8,
          58625.0,
          58565.0,
          58714.7,
          58662.9,
          58366.4,
          58628.2,
          58709.2,
          58641.3,
          58644.3,
          58666.1,
          58698.2,
          58614.9,
          58557.9,
          58652.9,
          58544.3,
          58682.0,
          58583.2,
          58262.2,
          52762.1,
          52583.5,
          52378.8,
          46967.4,
          46783.1,
          46568.2,
          35395.8,
          35171.2,
          35151.0,
          35211.6,
          35154.7,
          35120.1,
          35137.6,
          35205.9,
          35172.8,
          35126.4,
          35058.5,
          35095.0,
          34931.8,
          23554.2,
          23394.5,
          23430.6,
          23415.3,
          23397.0,
          23396.9,
          26594.8,
          -0.0,
          -0.0,
          -0.0,
          -0.0,
          -0.0,
          -0.0,
          -0.0,
          -0.0
         ],
         "yaxis": "y",
         "type": "scatter"
        },
        {
         "hovertemplate": "source=Tcp Bulksend<br>Index=%{x}<br>kbps=%{y}<extra></extra>",
         "legendgroup": "Tcp Bulksend",
         "line": {
          "color": "#EF553B",
          "dash": "solid"
         },
         "marker": {
          "symbol": "circle"
         },
         "mode": "lines",
         "name": "Tcp Bulksend",
         "orientation": "v",
         "showlegend": true,
         "x": [
          0,
          1,
          2,
          3,
          4,
          5,
          6,
          7,
          8,
          9,
          10,
          11,
          12,
          13,
          14,
          15,
          16,
          17,
          18,
          19,
          20,
          21,
          22,
          23,
          24,
          25,
          26,
          27,
          28,
          29,
          30,
          31,
          32,
          33,
          34,
          35,
          36,
          37,
          38,
          39,
          40,
          41,
          42,
          43,
          44,
          45,
          46,
          47,
          48,
          49,
          50,
          51
         ],
         "xaxis": "x",
         "y": [
          43280.5,
          44893.4,
          43912.9,
          46022.7,
          43886.6,
          47034.5,
          43574.0,
          45353.2,
          44123.7,
          47253.5,
          46163.7,
          44925.8,
          45044.2,
          46688.2,
          44681.1,
          44629.4,
          45588.5,
          46912.4,
          45333.0,
          45151.4,
          47071.3,
          45713.3,
          46167.2,
          45299.0,
          46761.0,
          45256.2,
          42949.8,
          43417.8,
          40650.5,
          37976.7,
          38150.8,
          36535.4,
          28374.4,
          28298.4,
          27158.5,
          27747.0,
          27232.0,
          28402.3,
          27542.9,
          28123.1,
          28766.5,
          28049.7,
          27161.9,
          28538.6,
          28602.1,
          18712.9,
          17625.5,
          18934.5,
          18738.4,
          18723.4,
          17856.8,
          -102.036
         ],
         "yaxis": "y",
         "type": "scatter"
        },
        {
         "hovertemplate": "source=Quic Bulksend<br>Index=%{x}<br>kbps=%{y}<extra></extra>",
         "legendgroup": "Quic Bulksend",
         "line": {
          "color": "#00cc96",
          "dash": "solid"
         },
         "marker": {
          "symbol": "circle"
         },
         "mode": "lines",
         "name": "Quic Bulksend",
         "orientation": "v",
         "showlegend": true,
         "x": [
          0,
          1,
          2,
          3,
          4,
          5,
          6,
          7,
          8,
          9,
          10,
          11,
          12,
          13,
          14,
          15,
          16,
          17,
          18,
          19,
          20,
          21,
          22,
          23,
          24,
          25,
          26,
          27,
          28,
          29,
          30,
          31,
          32,
          33,
          34,
          35,
          36,
          37,
          38,
          39,
          40,
          41,
          42,
          43,
          44,
          45,
          46,
          47,
          48,
          49,
          50,
          51
         ],
         "xaxis": "x",
         "y": [
          49509.6,
          53469.1,
          51308.7,
          51365.5,
          49568.3,
          51594.9,
          51681.9,
          49867.8,
          53519.1,
          51024.3,
          49452.3,
          53024.2,
          51830.9,
          51395.5,
          54821.7,
          51793.2,
          49929.2,
          48895.5,
          51934.9,
          50990.4,
          48753.3,
          50639.0,
          50393.5,
          50217.3,
          51910.1,
          51287.3,
          46186.2,
          47238.5,
          42001.4,
          40741.9,
          41140.6,
          40577.9,
          30970.6,
          30818.2,
          30738.7,
          30353.9,
          30970.4,
          31138.2,
          31271.3,
          30314.3,
          30938.5,
          31486.7,
          30758.6,
          31021.7,
          30812.8,
          20877.2,
          20959.2,
          20619.1,
          20338.7,
          20393.6,
          20946.8,
          -949.531
         ],
         "yaxis": "y",
         "type": "scatter"
        }
       ],
       "layout": {
        "template": {
         "data": {
          "histogram2dcontour": [
           {
            "type": "histogram2dcontour",
            "colorbar": {
             "outlinewidth": 0,
             "ticks": ""
            },
            "colorscale": [
             [
              0.0,
              "#0d0887"
             ],
             [
              0.1111111111111111,
              "#46039f"
             ],
             [
              0.2222222222222222,
              "#7201a8"
             ],
             [
              0.3333333333333333,
              "#9c179e"
             ],
             [
              0.4444444444444444,
              "#bd3786"
             ],
             [
              0.5555555555555556,
              "#d8576b"
             ],
             [
              0.6666666666666666,
              "#ed7953"
             ],
             [
              0.7777777777777778,
              "#fb9f3a"
             ],
             [
              0.8888888888888888,
              "#fdca26"
             ],
             [
              1.0,
              "#f0f921"
             ]
            ]
           }
          ],
          "choropleth": [
           {
            "type": "choropleth",
            "colorbar": {
             "outlinewidth": 0,
             "ticks": ""
            }
           }
          ],
          "histogram2d": [
           {
            "type": "histogram2d",
            "colorbar": {
             "outlinewidth": 0,
             "ticks": ""
            },
            "colorscale": [
             [
              0.0,
              "#0d0887"
             ],
             [
              0.1111111111111111,
              "#46039f"
             ],
             [
              0.2222222222222222,
              "#7201a8"
             ],
             [
              0.3333333333333333,
              "#9c179e"
             ],
             [
              0.4444444444444444,
              "#bd3786"
             ],
             [
              0.5555555555555556,
              "#d8576b"
             ],
             [
              0.6666666666666666,
              "#ed7953"
             ],
             [
              0.7777777777777778,
              "#fb9f3a"
             ],
             [
              0.8888888888888888,
              "#fdca26"
             ],
             [
              1.0,
              "#f0f921"
             ]
            ]
           }
          ],
          "heatmap": [
           {
            "type": "heatmap",
            "colorbar": {
             "outlinewidth": 0,
             "ticks": ""
            },
            "colorscale": [
             [
              0.0,
              "#0d0887"
             ],
             [
              0.1111111111111111,
              "#46039f"
             ],
             [
              0.2222222222222222,
              "#7201a8"
             ],
             [
              0.3333333333333333,
              "#9c179e"
             ],
             [
              0.4444444444444444,
              "#bd3786"
             ],
             [
              0.5555555555555556,
              "#d8576b"
             ],
             [
              0.6666666666666666,
              "#ed7953"
             ],
             [
              0.7777777777777778,
              "#fb9f3a"
             ],
             [
              0.8888888888888888,
              "#fdca26"
             ],
             [
              1.0,
              "#f0f921"
             ]
            ]
           }
          ],
          "heatmapgl": [
           {
            "type": "heatmapgl",
            "colorbar": {
             "outlinewidth": 0,
             "ticks": ""
            },
            "colorscale": [
             [
              0.0,
              "#0d0887"
             ],
             [
              0.1111111111111111,
              "#46039f"
             ],
             [
              0.2222222222222222,
              "#7201a8"
             ],
             [
              0.3333333333333333,
              "#9c179e"
             ],
             [
              0.4444444444444444,
              "#bd3786"
             ],
             [
              0.5555555555555556,
              "#d8576b"
             ],
             [
              0.6666666666666666,
              "#ed7953"
             ],
             [
              0.7777777777777778,
              "#fb9f3a"
             ],
             [
              0.8888888888888888,
              "#fdca26"
             ],
             [
              1.0,
              "#f0f921"
             ]
            ]
           }
          ],
          "contourcarpet": [
           {
            "type": "contourcarpet",
            "colorbar": {
             "outlinewidth": 0,
             "ticks": ""
            }
           }
          ],
          "contour": [
           {
            "type": "contour",
            "colorbar": {
             "outlinewidth": 0,
             "ticks": ""
            },
            "colorscale": [
             [
              0.0,
              "#0d0887"
             ],
             [
              0.1111111111111111,
              "#46039f"
             ],
             [
              0.2222222222222222,
              "#7201a8"
             ],
             [
              0.3333333333333333,
              "#9c179e"
             ],
             [
              0.4444444444444444,
              "#bd3786"
             ],
             [
              0.5555555555555556,
              "#d8576b"
             ],
             [
              0.6666666666666666,
              "#ed7953"
             ],
             [
              0.7777777777777778,
              "#fb9f3a"
             ],
             [
              0.8888888888888888,
              "#fdca26"
             ],
             [
              1.0,
              "#f0f921"
             ]
            ]
           }
          ],
          "surface": [
           {
            "type": "surface",
            "colorbar": {
             "outlinewidth": 0,
             "ticks": ""
            },
            "colorscale": [
             [
              0.0,
              "#0d0887"
             ],
             [
              0.1111111111111111,
              "#46039f"
             ],
             [
              0.2222222222222222,
              "#7201a8"
             ],
             [
              0.3333333333333333,
              "#9c179e"
             ],
             [
              0.4444444444444444,
              "#bd3786"
             ],
             [
              0.5555555555555556,
              "#d8576b"
             ],
             [
              0.6666666666666666,
              "#ed7953"
             ],
             [
              0.7777777777777778,
              "#fb9f3a"
             ],
             [
              0.8888888888888888,
              "#fdca26"
             ],
             [
              1.0,
              "#f0f921"
             ]
            ]
           }
          ],
          "mesh3d": [
           {
            "type": "mesh3d",
            "colorbar": {
             "outlinewidth": 0,
             "ticks": ""
            }
           }
          ],
          "scatter": [
           {
            "fillpattern": {
             "fillmode": "overlay",
             "size": 10,
             "solidity": 0.2
            },
            "type": "scatter"
           }
          ],
          "parcoords": [
           {
            "type": "parcoords",
            "line": {
             "colorbar": {
              "outlinewidth": 0,
              "ticks": ""
             }
            }
           }
          ],
          "scatterpolargl": [
           {
            "type": "scatterpolargl",
            "marker": {
             "colorbar": {
              "outlinewidth": 0,
              "ticks": ""
             }
            }
           }
          ],
          "bar": [
           {
            "error_x": {
             "color": "#2a3f5f"
            },
            "error_y": {
             "color": "#2a3f5f"
            },
            "marker": {
             "line": {
              "color": "#E5ECF6",
              "width": 0.5
             },
             "pattern": {
              "fillmode": "overlay",
              "size": 10,
              "solidity": 0.2
             }
            },
            "type": "bar"
           }
          ],
          "scattergeo": [
           {
            "type": "scattergeo",
            "marker": {
             "colorbar": {
              "outlinewidth": 0,
              "ticks": ""
             }
            }
           }
          ],
          "scatterpolar": [
           {
            "type": "scatterpolar",
            "marker": {
             "colorbar": {
              "outlinewidth": 0,
              "ticks": ""
             }
            }
           }
          ],
          "histogram": [
           {
            "marker": {
             "pattern": {
              "fillmode": "overlay",
              "size": 10,
              "solidity": 0.2
             }
            },
            "type": "histogram"
           }
          ],
          "scattergl": [
           {
            "type": "scattergl",
            "marker": {
             "colorbar": {
              "outlinewidth": 0,
              "ticks": ""
             }
            }
           }
          ],
          "scatter3d": [
           {
            "type": "scatter3d",
            "line": {
             "colorbar": {
              "outlinewidth": 0,
              "ticks": ""
             }
            },
            "marker": {
             "colorbar": {
              "outlinewidth": 0,
              "ticks": ""
             }
            }
           }
          ],
          "scattermapbox": [
           {
            "type": "scattermapbox",
            "marker": {
             "colorbar": {
              "outlinewidth": 0,
              "ticks": ""
             }
            }
           }
          ],
          "scatterternary": [
           {
            "type": "scatterternary",
            "marker": {
             "colorbar": {
              "outlinewidth": 0,
              "ticks": ""
             }
            }
           }
          ],
          "scattercarpet": [
           {
            "type": "scattercarpet",
            "marker": {
             "colorbar": {
              "outlinewidth": 0,
              "ticks": ""
             }
            }
           }
          ],
          "carpet": [
           {
            "aaxis": {
             "endlinecolor": "#2a3f5f",
             "gridcolor": "white",
             "linecolor": "white",
             "minorgridcolor": "white",
             "startlinecolor": "#2a3f5f"
            },
            "baxis": {
             "endlinecolor": "#2a3f5f",
             "gridcolor": "white",
             "linecolor": "white",
             "minorgridcolor": "white",
             "startlinecolor": "#2a3f5f"
            },
            "type": "carpet"
           }
          ],
          "table": [
           {
            "cells": {
             "fill": {
              "color": "#EBF0F8"
             },
             "line": {
              "color": "white"
             }
            },
            "header": {
             "fill": {
              "color": "#C8D4E3"
             },
             "line": {
              "color": "white"
             }
            },
            "type": "table"
           }
          ],
          "barpolar": [
           {
            "marker": {
             "line": {
              "color": "#E5ECF6",
              "width": 0.5
             },
             "pattern": {
              "fillmode": "overlay",
              "size": 10,
              "solidity": 0.2
             }
            },
            "type": "barpolar"
           }
          ],
          "pie": [
           {
            "automargin": true,
            "type": "pie"
           }
          ]
         },
         "layout": {
          "autotypenumbers": "strict",
          "colorway": [
           "#636efa",
           "#EF553B",
           "#00cc96",
           "#ab63fa",
           "#FFA15A",
           "#19d3f3",
           "#FF6692",
           "#B6E880",
           "#FF97FF",
           "#FECB52"
          ],
          "font": {
           "color": "#2a3f5f"
          },
          "hovermode": "closest",
          "hoverlabel": {
           "align": "left"
          },
          "paper_bgcolor": "white",
          "plot_bgcolor": "#E5ECF6",
          "polar": {
           "bgcolor": "#E5ECF6",
           "angularaxis": {
            "gridcolor": "white",
            "linecolor": "white",
            "ticks": ""
           },
           "radialaxis": {
            "gridcolor": "white",
            "linecolor": "white",
            "ticks": ""
           }
          },
          "ternary": {
           "bgcolor": "#E5ECF6",
           "aaxis": {
            "gridcolor": "white",
            "linecolor": "white",
            "ticks": ""
           },
           "baxis": {
            "gridcolor": "white",
            "linecolor": "white",
            "ticks": ""
           },
           "caxis": {
            "gridcolor": "white",
            "linecolor": "white",
            "ticks": ""
           }
          },
          "coloraxis": {
           "colorbar": {
            "outlinewidth": 0,
            "ticks": ""
           }
          },
          "colorscale": {
           "sequential": [
            [
             0.0,
             "#0d0887"
            ],
            [
             0.1111111111111111,
             "#46039f"
            ],
            [
             0.2222222222222222,
             "#7201a8"
            ],
            [
             0.3333333333333333,
             "#9c179e"
            ],
            [
             0.4444444444444444,
             "#bd3786"
            ],
            [
             0.5555555555555556,
             "#d8576b"
            ],
            [
             0.6666666666666666,
             "#ed7953"
            ],
            [
             0.7777777777777778,
             "#fb9f3a"
            ],
            [
             0.8888888888888888,
             "#fdca26"
            ],
            [
             1.0,
             "#f0f921"
            ]
           ],
           "sequentialminus": [
            [
             0.0,
             "#0d0887"
            ],
            [
             0.1111111111111111,
             "#46039f"
            ],
            [
             0.2222222222222222,
             "#7201a8"
            ],
            [
             0.3333333333333333,
             "#9c179e"
            ],
            [
             0.4444444444444444,
             "#bd3786"
            ],
            [
             0.5555555555555556,
             "#d8576b"
            ],
            [
             0.6666666666666666,
             "#ed7953"
            ],
            [
             0.7777777777777778,
             "#fb9f3a"
            ],
            [
             0.8888888888888888,
             "#fdca26"
            ],
            [
             1.0,
             "#f0f921"
            ]
           ],
           "diverging": [
            [
             0,
             "#8e0152"
            ],
            [
             0.1,
             "#c51b7d"
            ],
            [
             0.2,
             "#de77ae"
            ],
            [
             0.3,
             "#f1b6da"
            ],
            [
             0.4,
             "#fde0ef"
            ],
            [
             0.5,
             "#f7f7f7"
            ],
            [
             0.6,
             "#e6f5d0"
            ],
            [
             0.7,
             "#b8e186"
            ],
            [
             0.8,
             "#7fbc41"
            ],
            [
             0.9,
             "#4d9221"
            ],
            [
             1,
             "#276419"
            ]
           ]
          },
          "xaxis": {
           "gridcolor": "white",
           "linecolor": "white",
           "ticks": "",
           "title": {
            "standoff": 15
           },
           "zerolinecolor": "white",
           "automargin": true,
           "zerolinewidth": 2
          },
          "yaxis": {
           "gridcolor": "white",
           "linecolor": "white",
           "ticks": "",
           "title": {
            "standoff": 15
           },
           "zerolinecolor": "white",
           "automargin": true,
           "zerolinewidth": 2
          },
          "scene": {
           "xaxis": {
            "backgroundcolor": "#E5ECF6",
            "gridcolor": "white",
            "linecolor": "white",
            "showbackground": true,
            "ticks": "",
            "zerolinecolor": "white",
            "gridwidth": 2
           },
           "yaxis": {
            "backgroundcolor": "#E5ECF6",
            "gridcolor": "white",
            "linecolor": "white",
            "showbackground": true,
            "ticks": "",
            "zerolinecolor": "white",
            "gridwidth": 2
           },
           "zaxis": {
            "backgroundcolor": "#E5ECF6",
            "gridcolor": "white",
            "linecolor": "white",
            "showbackground": true,
            "ticks": "",
            "zerolinecolor": "white",
            "gridwidth": 2
           }
          },
          "shapedefaults": {
           "line": {
            "color": "#2a3f5f"
           }
          },
          "annotationdefaults": {
           "arrowcolor": "#2a3f5f",
           "arrowhead": 0,
           "arrowwidth": 1
          },
          "geo": {
           "bgcolor": "white",
           "landcolor": "#E5ECF6",
           "subunitcolor": "white",
           "showland": true,
           "showlakes": true,
           "lakecolor": "white"
          },
          "title": {
           "x": 0.05
          },
          "mapbox": {
           "style": "light"
          }
         }
        },
        "xaxis": {
         "anchor": "y",
         "domain": [
          0.0,
          1.0
         ],
         "title": {
          "text": "Index"
         }
        },
        "yaxis": {
         "anchor": "x",
         "domain": [
          0.0,
          1.0
         ],
         "title": {
          "text": "kbps"
         }
        },
        "legend": {
         "title": {
          "text": "source"
         },
         "tracegroupgap": 0
        },
        "title": {
         "text": "Combined Dataframes"
        },
        "showlegend": true
       },
       "config": {
        "plotlyServerURL": "https://plot.ly"
       }
      },
      "text/html": "<div>                            <div id=\"4db44e94-08d6-4340-8bad-051ec8daea45\" class=\"plotly-graph-div\" style=\"height:525px; width:100%;\"></div>            <script type=\"text/javascript\">                require([\"plotly\"], function(Plotly) {                    window.PLOTLYENV=window.PLOTLYENV || {};                                    if (document.getElementById(\"4db44e94-08d6-4340-8bad-051ec8daea45\")) {                    Plotly.newPlot(                        \"4db44e94-08d6-4340-8bad-051ec8daea45\",                        [{\"hovertemplate\":\"source=UDP<br>Index=%{x}<br>kbps=%{y}<extra></extra>\",\"legendgroup\":\"UDP\",\"line\":{\"color\":\"#636efa\",\"dash\":\"solid\"},\"marker\":{\"symbol\":\"circle\"},\"mode\":\"lines\",\"name\":\"UDP\",\"orientation\":\"v\",\"showlegend\":true,\"x\":[0,1,2,3,4,5,6,7,8,9,10,11,12,13,14,15,16,17,18,19,20,21,22,23,24,25,26,27,28,29,30,31,32,33,34,35,36,37,38,39,40,41,42,43,44,45,46,47,48,49,50,51,52,53,54,55,56,57,58,59],\"xaxis\":\"x\",\"y\":[58205.3,58680.9,58582.0,58640.7,58523.6,58674.2,58639.9,58617.8,58625.0,58565.0,58714.7,58662.9,58366.4,58628.2,58709.2,58641.3,58644.3,58666.1,58698.2,58614.9,58557.9,58652.9,58544.3,58682.0,58583.2,58262.2,52762.1,52583.5,52378.8,46967.4,46783.1,46568.2,35395.8,35171.2,35151.0,35211.6,35154.7,35120.1,35137.6,35205.9,35172.8,35126.4,35058.5,35095.0,34931.8,23554.2,23394.5,23430.6,23415.3,23397.0,23396.9,26594.8,-0.0,-0.0,-0.0,-0.0,-0.0,-0.0,-0.0,-0.0],\"yaxis\":\"y\",\"type\":\"scatter\"},{\"hovertemplate\":\"source=Tcp Bulksend<br>Index=%{x}<br>kbps=%{y}<extra></extra>\",\"legendgroup\":\"Tcp Bulksend\",\"line\":{\"color\":\"#EF553B\",\"dash\":\"solid\"},\"marker\":{\"symbol\":\"circle\"},\"mode\":\"lines\",\"name\":\"Tcp Bulksend\",\"orientation\":\"v\",\"showlegend\":true,\"x\":[0,1,2,3,4,5,6,7,8,9,10,11,12,13,14,15,16,17,18,19,20,21,22,23,24,25,26,27,28,29,30,31,32,33,34,35,36,37,38,39,40,41,42,43,44,45,46,47,48,49,50,51],\"xaxis\":\"x\",\"y\":[43280.5,44893.4,43912.9,46022.7,43886.6,47034.5,43574.0,45353.2,44123.7,47253.5,46163.7,44925.8,45044.2,46688.2,44681.1,44629.4,45588.5,46912.4,45333.0,45151.4,47071.3,45713.3,46167.2,45299.0,46761.0,45256.2,42949.8,43417.8,40650.5,37976.7,38150.8,36535.4,28374.4,28298.4,27158.5,27747.0,27232.0,28402.3,27542.9,28123.1,28766.5,28049.7,27161.9,28538.6,28602.1,18712.9,17625.5,18934.5,18738.4,18723.4,17856.8,-102.036],\"yaxis\":\"y\",\"type\":\"scatter\"},{\"hovertemplate\":\"source=Quic Bulksend<br>Index=%{x}<br>kbps=%{y}<extra></extra>\",\"legendgroup\":\"Quic Bulksend\",\"line\":{\"color\":\"#00cc96\",\"dash\":\"solid\"},\"marker\":{\"symbol\":\"circle\"},\"mode\":\"lines\",\"name\":\"Quic Bulksend\",\"orientation\":\"v\",\"showlegend\":true,\"x\":[0,1,2,3,4,5,6,7,8,9,10,11,12,13,14,15,16,17,18,19,20,21,22,23,24,25,26,27,28,29,30,31,32,33,34,35,36,37,38,39,40,41,42,43,44,45,46,47,48,49,50,51],\"xaxis\":\"x\",\"y\":[49509.6,53469.1,51308.7,51365.5,49568.3,51594.9,51681.9,49867.8,53519.1,51024.3,49452.3,53024.2,51830.9,51395.5,54821.7,51793.2,49929.2,48895.5,51934.9,50990.4,48753.3,50639.0,50393.5,50217.3,51910.1,51287.3,46186.2,47238.5,42001.4,40741.9,41140.6,40577.9,30970.6,30818.2,30738.7,30353.9,30970.4,31138.2,31271.3,30314.3,30938.5,31486.7,30758.6,31021.7,30812.8,20877.2,20959.2,20619.1,20338.7,20393.6,20946.8,-949.531],\"yaxis\":\"y\",\"type\":\"scatter\"}],                        {\"template\":{\"data\":{\"histogram2dcontour\":[{\"type\":\"histogram2dcontour\",\"colorbar\":{\"outlinewidth\":0,\"ticks\":\"\"},\"colorscale\":[[0.0,\"#0d0887\"],[0.1111111111111111,\"#46039f\"],[0.2222222222222222,\"#7201a8\"],[0.3333333333333333,\"#9c179e\"],[0.4444444444444444,\"#bd3786\"],[0.5555555555555556,\"#d8576b\"],[0.6666666666666666,\"#ed7953\"],[0.7777777777777778,\"#fb9f3a\"],[0.8888888888888888,\"#fdca26\"],[1.0,\"#f0f921\"]]}],\"choropleth\":[{\"type\":\"choropleth\",\"colorbar\":{\"outlinewidth\":0,\"ticks\":\"\"}}],\"histogram2d\":[{\"type\":\"histogram2d\",\"colorbar\":{\"outlinewidth\":0,\"ticks\":\"\"},\"colorscale\":[[0.0,\"#0d0887\"],[0.1111111111111111,\"#46039f\"],[0.2222222222222222,\"#7201a8\"],[0.3333333333333333,\"#9c179e\"],[0.4444444444444444,\"#bd3786\"],[0.5555555555555556,\"#d8576b\"],[0.6666666666666666,\"#ed7953\"],[0.7777777777777778,\"#fb9f3a\"],[0.8888888888888888,\"#fdca26\"],[1.0,\"#f0f921\"]]}],\"heatmap\":[{\"type\":\"heatmap\",\"colorbar\":{\"outlinewidth\":0,\"ticks\":\"\"},\"colorscale\":[[0.0,\"#0d0887\"],[0.1111111111111111,\"#46039f\"],[0.2222222222222222,\"#7201a8\"],[0.3333333333333333,\"#9c179e\"],[0.4444444444444444,\"#bd3786\"],[0.5555555555555556,\"#d8576b\"],[0.6666666666666666,\"#ed7953\"],[0.7777777777777778,\"#fb9f3a\"],[0.8888888888888888,\"#fdca26\"],[1.0,\"#f0f921\"]]}],\"heatmapgl\":[{\"type\":\"heatmapgl\",\"colorbar\":{\"outlinewidth\":0,\"ticks\":\"\"},\"colorscale\":[[0.0,\"#0d0887\"],[0.1111111111111111,\"#46039f\"],[0.2222222222222222,\"#7201a8\"],[0.3333333333333333,\"#9c179e\"],[0.4444444444444444,\"#bd3786\"],[0.5555555555555556,\"#d8576b\"],[0.6666666666666666,\"#ed7953\"],[0.7777777777777778,\"#fb9f3a\"],[0.8888888888888888,\"#fdca26\"],[1.0,\"#f0f921\"]]}],\"contourcarpet\":[{\"type\":\"contourcarpet\",\"colorbar\":{\"outlinewidth\":0,\"ticks\":\"\"}}],\"contour\":[{\"type\":\"contour\",\"colorbar\":{\"outlinewidth\":0,\"ticks\":\"\"},\"colorscale\":[[0.0,\"#0d0887\"],[0.1111111111111111,\"#46039f\"],[0.2222222222222222,\"#7201a8\"],[0.3333333333333333,\"#9c179e\"],[0.4444444444444444,\"#bd3786\"],[0.5555555555555556,\"#d8576b\"],[0.6666666666666666,\"#ed7953\"],[0.7777777777777778,\"#fb9f3a\"],[0.8888888888888888,\"#fdca26\"],[1.0,\"#f0f921\"]]}],\"surface\":[{\"type\":\"surface\",\"colorbar\":{\"outlinewidth\":0,\"ticks\":\"\"},\"colorscale\":[[0.0,\"#0d0887\"],[0.1111111111111111,\"#46039f\"],[0.2222222222222222,\"#7201a8\"],[0.3333333333333333,\"#9c179e\"],[0.4444444444444444,\"#bd3786\"],[0.5555555555555556,\"#d8576b\"],[0.6666666666666666,\"#ed7953\"],[0.7777777777777778,\"#fb9f3a\"],[0.8888888888888888,\"#fdca26\"],[1.0,\"#f0f921\"]]}],\"mesh3d\":[{\"type\":\"mesh3d\",\"colorbar\":{\"outlinewidth\":0,\"ticks\":\"\"}}],\"scatter\":[{\"fillpattern\":{\"fillmode\":\"overlay\",\"size\":10,\"solidity\":0.2},\"type\":\"scatter\"}],\"parcoords\":[{\"type\":\"parcoords\",\"line\":{\"colorbar\":{\"outlinewidth\":0,\"ticks\":\"\"}}}],\"scatterpolargl\":[{\"type\":\"scatterpolargl\",\"marker\":{\"colorbar\":{\"outlinewidth\":0,\"ticks\":\"\"}}}],\"bar\":[{\"error_x\":{\"color\":\"#2a3f5f\"},\"error_y\":{\"color\":\"#2a3f5f\"},\"marker\":{\"line\":{\"color\":\"#E5ECF6\",\"width\":0.5},\"pattern\":{\"fillmode\":\"overlay\",\"size\":10,\"solidity\":0.2}},\"type\":\"bar\"}],\"scattergeo\":[{\"type\":\"scattergeo\",\"marker\":{\"colorbar\":{\"outlinewidth\":0,\"ticks\":\"\"}}}],\"scatterpolar\":[{\"type\":\"scatterpolar\",\"marker\":{\"colorbar\":{\"outlinewidth\":0,\"ticks\":\"\"}}}],\"histogram\":[{\"marker\":{\"pattern\":{\"fillmode\":\"overlay\",\"size\":10,\"solidity\":0.2}},\"type\":\"histogram\"}],\"scattergl\":[{\"type\":\"scattergl\",\"marker\":{\"colorbar\":{\"outlinewidth\":0,\"ticks\":\"\"}}}],\"scatter3d\":[{\"type\":\"scatter3d\",\"line\":{\"colorbar\":{\"outlinewidth\":0,\"ticks\":\"\"}},\"marker\":{\"colorbar\":{\"outlinewidth\":0,\"ticks\":\"\"}}}],\"scattermapbox\":[{\"type\":\"scattermapbox\",\"marker\":{\"colorbar\":{\"outlinewidth\":0,\"ticks\":\"\"}}}],\"scatterternary\":[{\"type\":\"scatterternary\",\"marker\":{\"colorbar\":{\"outlinewidth\":0,\"ticks\":\"\"}}}],\"scattercarpet\":[{\"type\":\"scattercarpet\",\"marker\":{\"colorbar\":{\"outlinewidth\":0,\"ticks\":\"\"}}}],\"carpet\":[{\"aaxis\":{\"endlinecolor\":\"#2a3f5f\",\"gridcolor\":\"white\",\"linecolor\":\"white\",\"minorgridcolor\":\"white\",\"startlinecolor\":\"#2a3f5f\"},\"baxis\":{\"endlinecolor\":\"#2a3f5f\",\"gridcolor\":\"white\",\"linecolor\":\"white\",\"minorgridcolor\":\"white\",\"startlinecolor\":\"#2a3f5f\"},\"type\":\"carpet\"}],\"table\":[{\"cells\":{\"fill\":{\"color\":\"#EBF0F8\"},\"line\":{\"color\":\"white\"}},\"header\":{\"fill\":{\"color\":\"#C8D4E3\"},\"line\":{\"color\":\"white\"}},\"type\":\"table\"}],\"barpolar\":[{\"marker\":{\"line\":{\"color\":\"#E5ECF6\",\"width\":0.5},\"pattern\":{\"fillmode\":\"overlay\",\"size\":10,\"solidity\":0.2}},\"type\":\"barpolar\"}],\"pie\":[{\"automargin\":true,\"type\":\"pie\"}]},\"layout\":{\"autotypenumbers\":\"strict\",\"colorway\":[\"#636efa\",\"#EF553B\",\"#00cc96\",\"#ab63fa\",\"#FFA15A\",\"#19d3f3\",\"#FF6692\",\"#B6E880\",\"#FF97FF\",\"#FECB52\"],\"font\":{\"color\":\"#2a3f5f\"},\"hovermode\":\"closest\",\"hoverlabel\":{\"align\":\"left\"},\"paper_bgcolor\":\"white\",\"plot_bgcolor\":\"#E5ECF6\",\"polar\":{\"bgcolor\":\"#E5ECF6\",\"angularaxis\":{\"gridcolor\":\"white\",\"linecolor\":\"white\",\"ticks\":\"\"},\"radialaxis\":{\"gridcolor\":\"white\",\"linecolor\":\"white\",\"ticks\":\"\"}},\"ternary\":{\"bgcolor\":\"#E5ECF6\",\"aaxis\":{\"gridcolor\":\"white\",\"linecolor\":\"white\",\"ticks\":\"\"},\"baxis\":{\"gridcolor\":\"white\",\"linecolor\":\"white\",\"ticks\":\"\"},\"caxis\":{\"gridcolor\":\"white\",\"linecolor\":\"white\",\"ticks\":\"\"}},\"coloraxis\":{\"colorbar\":{\"outlinewidth\":0,\"ticks\":\"\"}},\"colorscale\":{\"sequential\":[[0.0,\"#0d0887\"],[0.1111111111111111,\"#46039f\"],[0.2222222222222222,\"#7201a8\"],[0.3333333333333333,\"#9c179e\"],[0.4444444444444444,\"#bd3786\"],[0.5555555555555556,\"#d8576b\"],[0.6666666666666666,\"#ed7953\"],[0.7777777777777778,\"#fb9f3a\"],[0.8888888888888888,\"#fdca26\"],[1.0,\"#f0f921\"]],\"sequentialminus\":[[0.0,\"#0d0887\"],[0.1111111111111111,\"#46039f\"],[0.2222222222222222,\"#7201a8\"],[0.3333333333333333,\"#9c179e\"],[0.4444444444444444,\"#bd3786\"],[0.5555555555555556,\"#d8576b\"],[0.6666666666666666,\"#ed7953\"],[0.7777777777777778,\"#fb9f3a\"],[0.8888888888888888,\"#fdca26\"],[1.0,\"#f0f921\"]],\"diverging\":[[0,\"#8e0152\"],[0.1,\"#c51b7d\"],[0.2,\"#de77ae\"],[0.3,\"#f1b6da\"],[0.4,\"#fde0ef\"],[0.5,\"#f7f7f7\"],[0.6,\"#e6f5d0\"],[0.7,\"#b8e186\"],[0.8,\"#7fbc41\"],[0.9,\"#4d9221\"],[1,\"#276419\"]]},\"xaxis\":{\"gridcolor\":\"white\",\"linecolor\":\"white\",\"ticks\":\"\",\"title\":{\"standoff\":15},\"zerolinecolor\":\"white\",\"automargin\":true,\"zerolinewidth\":2},\"yaxis\":{\"gridcolor\":\"white\",\"linecolor\":\"white\",\"ticks\":\"\",\"title\":{\"standoff\":15},\"zerolinecolor\":\"white\",\"automargin\":true,\"zerolinewidth\":2},\"scene\":{\"xaxis\":{\"backgroundcolor\":\"#E5ECF6\",\"gridcolor\":\"white\",\"linecolor\":\"white\",\"showbackground\":true,\"ticks\":\"\",\"zerolinecolor\":\"white\",\"gridwidth\":2},\"yaxis\":{\"backgroundcolor\":\"#E5ECF6\",\"gridcolor\":\"white\",\"linecolor\":\"white\",\"showbackground\":true,\"ticks\":\"\",\"zerolinecolor\":\"white\",\"gridwidth\":2},\"zaxis\":{\"backgroundcolor\":\"#E5ECF6\",\"gridcolor\":\"white\",\"linecolor\":\"white\",\"showbackground\":true,\"ticks\":\"\",\"zerolinecolor\":\"white\",\"gridwidth\":2}},\"shapedefaults\":{\"line\":{\"color\":\"#2a3f5f\"}},\"annotationdefaults\":{\"arrowcolor\":\"#2a3f5f\",\"arrowhead\":0,\"arrowwidth\":1},\"geo\":{\"bgcolor\":\"white\",\"landcolor\":\"#E5ECF6\",\"subunitcolor\":\"white\",\"showland\":true,\"showlakes\":true,\"lakecolor\":\"white\"},\"title\":{\"x\":0.05},\"mapbox\":{\"style\":\"light\"}}},\"xaxis\":{\"anchor\":\"y\",\"domain\":[0.0,1.0],\"title\":{\"text\":\"Index\"}},\"yaxis\":{\"anchor\":\"x\",\"domain\":[0.0,1.0],\"title\":{\"text\":\"kbps\"}},\"legend\":{\"title\":{\"text\":\"source\"},\"tracegroupgap\":0},\"title\":{\"text\":\"Combined Dataframes\"},\"showlegend\":true},                        {\"responsive\": true}                    ).then(function(){\n                            \nvar gd = document.getElementById('4db44e94-08d6-4340-8bad-051ec8daea45');\nvar x = new MutationObserver(function (mutations, observer) {{\n        var display = window.getComputedStyle(gd).display;\n        if (!display || display === 'none') {{\n            console.log([gd, 'removed!']);\n            Plotly.purge(gd);\n            observer.disconnect();\n        }}\n}});\n\n// Listen for the removal of the full notebook cells\nvar notebookContainer = gd.closest('#notebook-container');\nif (notebookContainer) {{\n    x.observe(notebookContainer, {childList: true});\n}}\n\n// Listen for the clearing of the current output cell\nvar outputEl = gd.closest('.output');\nif (outputEl) {{\n    x.observe(outputEl, {childList: true});\n}}\n\n                        })                };                });            </script>        </div>"
     },
     "metadata": {},
     "output_type": "display_data"
    }
   ],
   "source": [
    "#Loading UDP CSVs\n",
    "folderName = \"baseline-udp-onoff/2024-01-18_11:30:26\"\n",
    "udpClientCsv = f'../data/baseline_jan18/{folderName}/udp-flow0-client.csv'\n",
    "udpClientDf_1 = pd.read_csv(udpClientCsv)\n",
    "\n",
    "#Loading TCP CSVs\n",
    "folderName = \"baseline-tcp-bulksend/2024-01-18_11:30:09\"\n",
    "tcpClientCsv = f'../data/baseline_jan18/{folderName}/tcp-flow0-client.csv'\n",
    "tcpClientDf_1 = pd.read_csv(tcpClientCsv)\n",
    "\n",
    "#Loading QUIC CSVs\n",
    "folderName = \"baseline-quic-bulksend/2024-01-18_11:30:17\"\n",
    "quicClientCsv = f'../data/baseline_jan18/{folderName}/quic-flow0-client.csv'\n",
    "quicClientDf_1 = pd.read_csv(quicClientCsv)\n",
    "\n",
    "# Add a new column to identify each dataframe\n",
    "udpClientDf_1['source'] = 'UDP'\n",
    "tcpClientDf_1['source'] = 'Tcp Bulksend'\n",
    "quicClientDf_1['source'] = 'Quic Bulksend'\n",
    "\n",
    "# Concatenate the dataframes\n",
    "combined_df = pd.concat([udpClientDf_1, tcpClientDf_1, quicClientDf_1])\n",
    "\n",
    "combined_df['kbps'] = pd.to_numeric(combined_df['kbps'], errors='coerce')\n",
    "\n",
    "# Plotting the combined data\n",
    "fig = px.line(combined_df, x=combined_df.index, y='kbps', color='source',\n",
    "              labels={'index': 'Index', 'kbps': 'kbps'}, title='Combined Dataframes')\n",
    "\n",
    "# Show the legend\n",
    "fig.update_layout(showlegend=True)\n",
    "\n",
    "fig.show()\n"
   ],
   "metadata": {
    "collapsed": false,
    "ExecuteTime": {
     "end_time": "2024-01-18T07:48:09.938369642Z",
     "start_time": "2024-01-18T07:48:09.893779260Z"
    }
   },
   "id": "477bff4505c54035",
   "execution_count": 29
  }
 ],
 "metadata": {
  "kernelspec": {
   "display_name": "Python 3",
   "language": "python",
   "name": "python3"
  },
  "language_info": {
   "codemirror_mode": {
    "name": "ipython",
    "version": 2
   },
   "file_extension": ".py",
   "mimetype": "text/x-python",
   "name": "python",
   "nbconvert_exporter": "python",
   "pygments_lexer": "ipython2",
   "version": "2.7.6"
  }
 },
 "nbformat": 4,
 "nbformat_minor": 5
}
