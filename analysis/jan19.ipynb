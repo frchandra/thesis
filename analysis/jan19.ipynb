{
 "cells": [
  {
   "cell_type": "code",
   "execution_count": null,
   "id": "initial_id",
   "metadata": {
    "collapsed": true
   },
   "outputs": [],
   "source": [
    "import pandas as pd\n",
    "import plotly.express as px\n",
    "from IPython.display import display"
   ]
  },
  {
   "cell_type": "markdown",
   "source": [
    "# Base Line"
   ],
   "metadata": {
    "collapsed": false
   },
   "id": "aa0cad94c7501dd7"
  },
  {
   "cell_type": "markdown",
   "source": [
    "## Throughput"
   ],
   "metadata": {
    "collapsed": false
   },
   "id": "4933a45b2e6817c8"
  },
  {
   "cell_type": "code",
   "outputs": [],
   "source": [
    "udpClientCsv = f'../data/baseline_jan19/baseline-udp/2024-01-19_10:14:23/udp-flow0-client.csv'\n",
    "udpClientDf_1 = pd.read_csv(udpClientCsv)\n",
    "udpClientDf_1['kbps'] = pd.to_numeric(udpClientDf_1['kbps'], errors='coerce')\n",
    "\n",
    "tcpClientCsv = f'../data/baseline_jan19/baseline-tcp-bulksend/2024-01-19_09:48:02/tcp-flow0-client.csv'\n",
    "tcpClientDf_1 = pd.read_csv(tcpClientCsv)\n",
    "tcpClientDf_1['kbps'] = pd.to_numeric(tcpClientDf_1['kbps'], errors='coerce')\n",
    "\n",
    "quicClientCsv = f'../data/baseline_jan19/baseline-quic-bulksend/2024-01-19_09:48:24/quic-flow0-client.csv'\n",
    "quicClientDf_1 = pd.read_csv(quicClientCsv)\n",
    "\n",
    "quicClientCsv = f'../data/baseline_jan19/baseline-quic-bulksend/2024-01-19_12:57:02/quic-flow0-client.csv'\n",
    "quicClientDf_2 = pd.read_csv(quicClientCsv)\n",
    "\n",
    "quicClientDf_1['kbps'] = quicClientDf_1['kbps'][0:50]\n",
    "quicClientDf_2['kbps'] = quicClientDf_2['kbps'][0:50]\n",
    "\n",
    "quicAvgDf = (quicClientDf_1['kbps'] + quicClientDf_2['kbps'])/2\n",
    "quicAvgDf = pd.DataFrame((quicAvgDf))\n",
    "\n",
    "udpClientDf_1['source'] = 'UDP'\n",
    "quicAvgDf['source'] = 'Quic Bulksend'\n",
    "tcpClientDf_1['source'] = 'Tcp Bulksend'\n",
    "\n",
    "# Concatenate the dataframes\n",
    "comThroughput = pd.concat([udpClientDf_1, quicAvgDf, tcpClientDf_1])\n",
    "\n",
    "comThroughput['kbps'] = pd.to_numeric(comThroughput['kbps'], errors='coerce')\n",
    "\n",
    "# Plotting the combined data\n",
    "figTh = px.line(comThroughput, x=comThroughput.index, y='kbps', color='source',\n",
    "                labels={'index': 'Index', 'kbps': 'kbps'}, title='Combined Dataframes')\n",
    "\n",
    "# Show the legend\n",
    "figTh.update_layout(showlegend=True)\n",
    "\n",
    "figTh.show()\n",
    "\n"
   ],
   "metadata": {
    "collapsed": false
   },
   "id": "16a4367083694ecb",
   "execution_count": null
  },
  {
   "cell_type": "markdown",
   "source": [
    "## Jitter"
   ],
   "metadata": {
    "collapsed": false
   },
   "id": "dff85dd6a5db7a21"
  },
  {
   "cell_type": "code",
   "outputs": [],
   "source": [
    "udpClientCsv = f'../data/baseline_jan19/baseline-udp/2024-01-19_10:14:23/udp-flow0-client.csv'\n",
    "udpClientDf_1 = pd.read_csv(udpClientCsv)\n",
    "udpClientDf_1['jitter_mils'] = pd.to_numeric(udpClientDf_1['jitter_mils'], errors='coerce')\n",
    "\n",
    "tcpClientCsv = f'../data/baseline_jan19/baseline-tcp-bulksend/2024-01-19_09:48:02/tcp-flow0-client.csv'\n",
    "tcpClientDf_1 = pd.read_csv(tcpClientCsv)\n",
    "tcpClientDf_1['jitter_mils'] = pd.to_numeric(tcpClientDf_1['jitter_mils'], errors='coerce')\n",
    "\n",
    "quicClientCsv = f'../data/baseline_jan19/baseline-quic-bulksend/2024-01-19_09:48:24/quic-flow0-client.csv'\n",
    "quicClientDf_1 = pd.read_csv(quicClientCsv)\n",
    "\n",
    "quicClientCsv = f'../data/baseline_jan19/baseline-quic-bulksend/2024-01-19_12:57:02/quic-flow0-client.csv'\n",
    "quicClientDf_2 = pd.read_csv(quicClientCsv)\n",
    "\n",
    "quicClientDf_1['jitter_mils'] = quicClientDf_1['jitter_mils'][0:50]\n",
    "quicClientDf_2['jitter_mils'] = quicClientDf_2['jitter_mils'][0:50]\n",
    "\n",
    "quicAvgDf = (quicClientDf_1['jitter_mils'] + quicClientDf_2['jitter_mils'])/2\n",
    "quicAvgDf = pd.DataFrame((quicAvgDf))\n",
    "\n",
    "udpClientDf_1['source'] = 'UDP'\n",
    "quicAvgDf['source'] = 'Quic Bulksend'\n",
    "tcpClientDf_1['source'] = 'Tcp Bulksend'\n",
    "\n",
    "# Concatenate the dataframes\n",
    "comJit = pd.concat([udpClientDf_1, quicAvgDf, tcpClientDf_1])\n",
    "\n",
    "comJit['jitter_mils'] = pd.to_numeric(comJit['jitter_mils'], errors='coerce')\n",
    "\n",
    "# Plotting the combined data\n",
    "figJit = px.line(comJit, x=comJit.index, y='jitter_mils', color='source',\n",
    "                labels={'index': 'Index', 'jitter_mils': 'jitter_mils'}, title='Combined Dataframes')\n",
    "\n",
    "# Show the legend\n",
    "figJit.update_layout(showlegend=True)\n",
    "\n",
    "figJit.show()"
   ],
   "metadata": {
    "collapsed": false
   },
   "id": "667e83d5703213ec",
   "execution_count": null
  },
  {
   "cell_type": "markdown",
   "source": [
    "## Loss Percentage"
   ],
   "metadata": {
    "collapsed": false
   },
   "id": "b4fb935df4ba434e"
  },
  {
   "cell_type": "code",
   "outputs": [],
   "source": [
    "udpClientCsv = f'../data/baseline_jan19/baseline-udp/2024-01-19_10:14:23/udp-flow0-client.csv'\n",
    "udpClientDf_1 = pd.read_csv(udpClientCsv)\n",
    "udpClientDf_1['plr'] = pd.to_numeric(udpClientDf_1['plr'], errors='coerce')\n",
    "\n",
    "tcpClientCsv = f'../data/baseline_jan19/baseline-tcp-bulksend/2024-01-19_09:48:02/tcp-flow0-client.csv'\n",
    "tcpClientDf_1 = pd.read_csv(tcpClientCsv)\n",
    "tcpClientDf_1['plr'] = pd.to_numeric(tcpClientDf_1['plr'], errors='coerce')\n",
    "tcpClientDf_1['plr'] = tcpClientDf_1['plr'][0:50]\n",
    "\n",
    "quicClientCsv = f'../data/baseline_jan19/baseline-quic-bulksend/2024-01-19_09:48:24/quic-flow0-client.csv'\n",
    "quicClientDf_1 = pd.read_csv(quicClientCsv)\n",
    "quicClientCsv = f'../data/baseline_jan19/baseline-quic-bulksend/2024-01-19_12:57:02/quic-flow0-client.csv'\n",
    "quicClientDf_2 = pd.read_csv(quicClientCsv)\n",
    "quicClientDf_1['plr'] = quicClientDf_1['plr'][0:50]\n",
    "quicClientDf_2['plr'] = quicClientDf_2['plr'][0:50]\n",
    "\n",
    "quicAvgDf = (quicClientDf_1['plr'] + quicClientDf_2['plr'])/2\n",
    "quicAvgDf = pd.DataFrame((quicAvgDf))\n",
    "\n",
    "udpClientDf_1['source'] = 'UDP'\n",
    "quicAvgDf['source'] = 'Quic Bulksend'\n",
    "tcpClientDf_1['source'] = 'Tcp Bulksend'\n",
    "\n",
    "# Concatenate the dataframes\n",
    "# comThroughput = pd.concat([udpClientDf_1, quicAvgDf, tcpClientDf_1])\n",
    "comLos = pd.concat([quicAvgDf, tcpClientDf_1])\n",
    "\n",
    "comLos['plr'] = pd.to_numeric(comLos['plr'], errors='coerce')\n",
    "\n",
    "# Plotting the combined data\n",
    "figLos = px.line(comLos, x=comLos.index, y='plr', color='source',\n",
    "                labels={'index': 'Index', 'plr': 'plr'}, title='Combined Dataframes')\n",
    "\n",
    "# Show the legend\n",
    "figLos.update_layout(showlegend=True)\n",
    "\n",
    "figLos.show()\n",
    "figTh\n",
    "figTh"
   ],
   "metadata": {
    "collapsed": false
   },
   "id": "31edcfeb820c8e63",
   "execution_count": null
  },
  {
   "cell_type": "markdown",
   "source": [
    "## Delay"
   ],
   "metadata": {
    "collapsed": false
   },
   "id": "d0a0a83578162c52"
  },
  {
   "cell_type": "code",
   "outputs": [],
   "source": [
    "udpClientCsv = f'../data/baseline_jan19/baseline-udp/2024-01-19_10:14:23/udp-flow0-client.csv'\n",
    "udpClientDf_1 = pd.read_csv(udpClientCsv)\n",
    "udpClientDf_1['delay_mils'] = pd.to_numeric(udpClientDf_1['delay_mils'], errors='coerce')\n",
    "\n",
    "tcpClientCsv = f'../data/baseline_jan19/baseline-tcp-bulksend/2024-01-19_09:48:02/tcp-flow0-client.csv'\n",
    "tcpClientDf_1 = pd.read_csv(tcpClientCsv)\n",
    "tcpClientDf_1['delay_mils'] = pd.to_numeric(tcpClientDf_1['delay_mils'], errors='coerce')\n",
    "tcpClientDf_1['delay_mils'] = tcpClientDf_1['delay_mils'][0:50]\n",
    "\n",
    "quicClientCsv = f'../data/baseline_jan19/baseline-quic-bulksend/2024-01-19_09:48:24/quic-flow0-client.csv'\n",
    "quicClientDf_1 = pd.read_csv(quicClientCsv)\n",
    "quicClientCsv = f'../data/baseline_jan19/baseline-quic-bulksend/2024-01-19_12:57:02/quic-flow0-client.csv'\n",
    "quicClientDf_2 = pd.read_csv(quicClientCsv)\n",
    "quicClientDf_1['delay_mils'] = quicClientDf_1['delay_mils'][0:50]\n",
    "quicClientDf_2['delay_mils'] = quicClientDf_2['delay_mils'][0:50]\n",
    "\n",
    "quicAvgDf = (quicClientDf_1['delay_mils'] + quicClientDf_2['delay_mils'])/2\n",
    "quicAvgDf = pd.DataFrame((quicAvgDf))\n",
    "\n",
    "udpClientDf_1['source'] = 'UDP'\n",
    "quicAvgDf['source'] = 'Quic Bulksend'\n",
    "tcpClientDf_1['source'] = 'Tcp Bulksend'\n",
    "\n",
    "# Concatenate the dataframes\n",
    "# comThroughput = pd.concat([udpClientDf_1, quicAvgDf, tcpClientDf_1])\n",
    "comDel = pd.concat([quicAvgDf, tcpClientDf_1])\n",
    "\n",
    "comDel['delay_mils'] = pd.to_numeric(comDel['delay_mils'], errors='coerce')\n",
    "\n",
    "# Plotting the combined data\n",
    "figDel = px.line(comDel, x=comDel.index, y='delay_mils', color='source',\n",
    "                labels={'index': 'Index', 'delay_mils': 'delay_mils'}, title='Combined Dataframes')\n",
    "\n",
    "# Show the legend\n",
    "figDel.update_layout(showlegend=True)\n",
    "\n",
    "figDel.show()"
   ],
   "metadata": {
    "collapsed": false
   },
   "id": "f355ae166d9bf025",
   "execution_count": null
  },
  {
   "cell_type": "markdown",
   "source": [
    "## Signal"
   ],
   "metadata": {
    "collapsed": false
   },
   "id": "8f313f41f87355f9"
  },
  {
   "cell_type": "code",
   "outputs": [],
   "source": [
    "udpClientCsv = f'../data/baseline_jan19/baseline-udp/2024-01-19_10:14:23/udp-flow0-client.csv'\n",
    "udpClientDf_1 = pd.read_csv(udpClientCsv)\n",
    "udpClientDf_1['signal'] = pd.to_numeric(udpClientDf_1['signal'], errors='coerce')\n",
    "\n",
    "tcpClientCsv = f'../data/baseline_jan19/baseline-tcp-bulksend/2024-01-19_09:48:02/tcp-flow0-client.csv'\n",
    "tcpClientDf_1 = pd.read_csv(tcpClientCsv)\n",
    "tcpClientDf_1['signal'] = pd.to_numeric(tcpClientDf_1['signal'], errors='coerce')\n",
    "tcpClientDf_1['signal'] = tcpClientDf_1['signal'][0:50]\n",
    "\n",
    "quicClientCsv = f'../data/baseline_jan19/baseline-quic-bulksend/2024-01-19_09:48:24/quic-flow0-client.csv'\n",
    "quicClientDf_1 = pd.read_csv(quicClientCsv)\n",
    "quicClientCsv = f'../data/baseline_jan19/baseline-quic-bulksend/2024-01-19_12:57:02/quic-flow0-client.csv'\n",
    "quicClientDf_2 = pd.read_csv(quicClientCsv)\n",
    "quicClientDf_1['signal'] = quicClientDf_1['signal'][0:50]\n",
    "quicClientDf_2['signal'] = quicClientDf_2['signal'][0:50]\n",
    "\n",
    "quicAvgDf = (quicClientDf_1['signal'] + quicClientDf_2['signal'])/2\n",
    "quicAvgDf = pd.DataFrame((quicAvgDf))\n",
    "\n",
    "udpClientDf_1['source'] = 'UDP'\n",
    "quicAvgDf['source'] = 'Quic Bulksend'\n",
    "tcpClientDf_1['source'] = 'Tcp Bulksend'\n",
    "\n",
    "# Concatenate the dataframes\n",
    "comSig = pd.concat([udpClientDf_1])\n",
    "# comSig = pd.concat([quicAvgDf, tcpClientDf_1])\n",
    "\n",
    "comSig['signal'] = pd.to_numeric(comSig['signal'], errors='coerce')\n",
    "\n",
    "# Plotting the combined data\n",
    "figSig = px.line(comSig, x=comSig.index, y='signal', color='source',\n",
    "                labels={'index': 'meter detik', 'signal': 'kuat sinyal (dBm)'}, title='Combined Dataframes', width=800, height=400)\n",
    "\n",
    "# Show the legend\n",
    "figSig.update_layout(showlegend=True)\n",
    "\n",
    "figSig.show()"
   ],
   "metadata": {
    "collapsed": false
   },
   "id": "b9cf67b26e6610eb",
   "execution_count": null
  },
  {
   "cell_type": "markdown",
   "source": [
    "## Noise"
   ],
   "metadata": {
    "collapsed": false
   },
   "id": "5b9a36dc1a4845b5"
  },
  {
   "cell_type": "code",
   "outputs": [],
   "source": [
    "udpClientCsv = f'../data/baseline_jan19/baseline-udp/2024-01-19_10:14:23/udp-flow0-client.csv'\n",
    "udpClientDf_1 = pd.read_csv(udpClientCsv)\n",
    "udpClientDf_1['signal'] = pd.to_numeric(udpClientDf_1['noise'], errors='coerce')\n",
    "\n",
    "tcpClientCsv = f'../data/baseline_jan19/baseline-tcp-bulksend/2024-01-19_09:48:02/tcp-flow0-client.csv'\n",
    "tcpClientDf_1 = pd.read_csv(tcpClientCsv)\n",
    "tcpClientDf_1['noise'] = pd.to_numeric(tcpClientDf_1['noise'], errors='coerce')\n",
    "tcpClientDf_1['noise'] = tcpClientDf_1['noise'][0:50]\n",
    "\n",
    "quicClientCsv = f'../data/baseline_jan19/baseline-quic-bulksend/2024-01-19_09:48:24/quic-flow0-client.csv'\n",
    "quicClientDf_1 = pd.read_csv(quicClientCsv)\n",
    "quicClientCsv = f'../data/baseline_jan19/baseline-quic-bulksend/2024-01-19_12:57:02/quic-flow0-client.csv'\n",
    "quicClientDf_2 = pd.read_csv(quicClientCsv)\n",
    "quicClientDf_1['noise'] = quicClientDf_1['noise'][0:50]\n",
    "quicClientDf_2['noise'] = quicClientDf_2['noise'][0:50]\n",
    "\n",
    "quicAvgDf = (quicClientDf_1['noise'] + quicClientDf_2['noise'])/2\n",
    "quicAvgDf = pd.DataFrame((quicAvgDf))\n",
    "\n",
    "udpClientDf_1['source'] = 'UDP'\n",
    "quicAvgDf['source'] = 'Quic Bulksend'\n",
    "tcpClientDf_1['source'] = 'Tcp Bulksend'\n",
    "\n",
    "# Concatenate the dataframes\n",
    "comNoi = pd.concat([udpClientDf_1, quicAvgDf, tcpClientDf_1])\n",
    "# comNoi = pd.concat([quicAvgDf, tcpClientDf_1])\n",
    "\n",
    "comNoi['noise'] = pd.to_numeric(comNoi['noise'], errors='coerce')\n",
    "\n",
    "# Plotting the combined data\n",
    "figNoi = px.line(comNoi, x=comNoi.index, y='noise', color='source',\n",
    "                labels={'index': 'Index', 'noise': 'noise'}, title='Combined Dataframes')\n",
    "\n",
    "# Show the legend\n",
    "figNoi.update_layout(showlegend=True)\n",
    "\n",
    "figNoi.show()"
   ],
   "metadata": {
    "collapsed": false
   },
   "id": "c9530db2094dbf9",
   "execution_count": null
  },
  {
   "cell_type": "markdown",
   "source": [
    "## ALL\n"
   ],
   "metadata": {
    "collapsed": false
   },
   "id": "64380096501e0ef7"
  },
  {
   "cell_type": "code",
   "outputs": [],
   "source": [
    "figTh.show()\n",
    "figSig.show()\n",
    "figJit.show()\n",
    "figLos.show()\n",
    "figDel.show()\n"
   ],
   "metadata": {
    "collapsed": false
   },
   "id": "1bb1e47846c16667",
   "execution_count": null
  },
  {
   "cell_type": "markdown",
   "source": [
    "# Fairnes\n"
   ],
   "metadata": {
    "collapsed": false
   },
   "id": "e48a54ab1d2e8fa1"
  },
  {
   "cell_type": "markdown",
   "source": [
    "## Throughput QUIC v TCP"
   ],
   "metadata": {
    "collapsed": false
   },
   "id": "c797a35d716f54df"
  },
  {
   "cell_type": "code",
   "outputs": [],
   "source": [
    "tcpClientCsv = f'../data/baseline_jan19/baseline-udp-onoff/2024-01-19_10:35:05/tcp-flow0-client.csv'\n",
    "tcpClientDf_1 = pd.read_csv(tcpClientCsv)\n",
    "\n",
    "quicClientCsv = f'../data/baseline_jan19/baseline-udp-onoff/2024-01-19_10:35:05/quic-flow0-client.csv'\n",
    "quicClientDf_1 = pd.read_csv(quicClientCsv)\n",
    "\n",
    "quicClientDf_1['kbps'] = quicClientDf_1['kbps'][0:50]\n",
    "\n",
    "total = tcpClientDf_1 + quicClientDf_1\n",
    "\n",
    "quicClientDf_1['source'] = 'Quic Bulksend'\n",
    "tcpClientDf_1['source'] = 'Tcp Bulksend'\n",
    "total['source'] = 'total'\n",
    "\n",
    "comThroughput = pd.concat([quicClientDf_1, tcpClientDf_1, total])\n",
    "\n",
    "comThroughput['kbps'] = pd.to_numeric(comThroughput['kbps'], errors='coerce')\n",
    "\n",
    "# Plotting the combined data\n",
    "figTh2 = px.line(comThroughput, x=comThroughput.index, y='kbps', color='source',\n",
    "                labels={'index': 'Index', 'kbps': 'kbps'}, title='Combined Dataframes')\n",
    "\n",
    "# Show the legend\n",
    "figTh2.update_layout(showlegend=True)\n",
    "\n",
    "figTh2.show()"
   ],
   "metadata": {
    "collapsed": false
   },
   "id": "9aa59c01356ae6f2",
   "execution_count": null
  },
  {
   "cell_type": "markdown",
   "source": [
    "## Throughput UDP v TCP"
   ],
   "metadata": {
    "collapsed": false
   },
   "id": "aca4551a4289d362"
  },
  {
   "cell_type": "code",
   "outputs": [],
   "source": [
    "tcpClientCsv = f'../data/baseline_jan19/baseline-udp-onoff/2024-01-19_10:30:56/tcp-flow0-client.csv'\n",
    "tcpClientDf_1 = pd.read_csv(tcpClientCsv)\n",
    "\n",
    "udpClientCsv = f'../data/baseline_jan19/baseline-udp-onoff/2024-01-19_10:30:56/udp-flow0-client.csv'\n",
    "udpClientDf_1 = pd.read_csv(udpClientCsv)\n",
    "\n",
    "udpClientDf_1['kbps'] = udpClientDf_1['kbps'][0:50]\n",
    "\n",
    "udpClientDf_1['source'] = 'Quic Bulksend'\n",
    "tcpClientDf_1['source'] = 'Tcp Bulksend'\n",
    "\n",
    "comThroughput = pd.concat([udpClientDf_1, tcpClientDf_1])\n",
    "\n",
    "comThroughput['kbps'] = pd.to_numeric(comThroughput['kbps'], errors='coerce')\n",
    "\n",
    "# Plotting the combined data\n",
    "figTh3 = px.line(comThroughput, x=comThroughput.index, y='kbps', color='source',\n",
    "                labels={'index': 'Index', 'kbps': 'kbps'}, title='Combined Dataframes')\n",
    "\n",
    "# Show the legend\n",
    "figTh3.update_layout(showlegend=True)\n",
    "\n",
    "figTh3.show()"
   ],
   "metadata": {
    "collapsed": false
   },
   "id": "cf04e45f247dea2c",
   "execution_count": null
  },
  {
   "cell_type": "code",
   "outputs": [],
   "source": [
    "figTh.show()\n",
    "figTh2.show()\n",
    "figTh3.show()"
   ],
   "metadata": {
    "collapsed": false
   },
   "id": "176c1f6c8fe86de7",
   "execution_count": null
  },
  {
   "cell_type": "markdown",
   "source": [
    "# QUIC"
   ],
   "metadata": {
    "collapsed": false
   },
   "id": "7278e4b39a20cbe8"
  },
  {
   "cell_type": "code",
   "outputs": [],
   "source": [
    "quicClientCsv = f'../data/baseline_jan19/baseline-quic-bs-rtt/2024-01-19_11:16:33/quic-flow0-client.csv'\n",
    "quicClientDf_rtt = pd.read_csv(quicClientCsv)\n",
    "figQuic = px.line(quicClientDf_rtt, x=quicClientDf_rtt.index, y='kbps', title='kbps values over index',\n",
    "                  labels={'index': 'Index', 'kbps': 'kbps'})\n",
    "figQuic.add_trace(px.line(quicAvgDf, x=quicAvgDf.index, y='kbps').data[0])\n",
    "figQuic.update_layout(height=800)\n",
    "figQuic.show()"
   ],
   "metadata": {
    "collapsed": false
   },
   "id": "9fd520661cc718c1",
   "execution_count": null
  },
  {
   "cell_type": "markdown",
   "source": [],
   "metadata": {
    "collapsed": false
   },
   "id": "b9eaea4ba6cb5b23"
  },
  {
   "cell_type": "markdown",
   "source": [
    "# Scratch"
   ],
   "metadata": {
    "collapsed": false
   },
   "id": "f43d3f0b3a1a69b0"
  },
  {
   "cell_type": "code",
   "outputs": [],
   "source": [
    "udpClientCsv = \"/home/chandra/CodeBase/Thesis/ns-allinone-3.39/ns-3.39/scratch/data/simulation-downstream_jan26/baseline-udp/2024-01-25_10:52:25/udp-flow0-client.csv\"\n",
    "udpClientDf_1 = pd.read_csv(udpClientCsv)\n",
    "udpClientDf_1['kbps'] = pd.to_numeric(udpClientDf_1['kbps'], errors='coerce')\n",
    "udpClientDf_1['source'] = 'UDP'\n",
    "\n",
    "udpClientDf_1['kbps'][49:] = 0 \n",
    "\n",
    "figTh = px.line(udpClientDf_1, x=udpClientDf_1.index, y='kbps', color='source',\n",
    "                labels={'index': 'Index', 'kbps': 'kbps'}, title='Combined Dataframes')\n",
    "\n",
    "\n",
    "figTh.update_layout(showlegend=True)\n",
    "\n",
    "figTh.show()\n"
   ],
   "metadata": {
    "collapsed": false
   },
   "id": "f199f1ec8c9a709b",
   "execution_count": null
  },
  {
   "cell_type": "code",
   "outputs": [
    {
     "data": {
      "application/vnd.plotly.v1+json": {
       "data": [
        {
         "mode": "lines",
         "name": "throughput (Mbps)",
         "x": [
          1,
          2,
          3,
          4,
          5,
          6,
          7,
          8,
          9,
          10,
          11,
          12,
          13,
          14,
          15,
          16,
          17,
          18,
          19,
          20,
          21,
          22,
          23,
          24,
          25,
          26,
          27,
          28,
          29,
          30,
          31,
          32,
          33,
          34,
          35,
          36,
          37,
          38,
          39,
          40,
          41,
          42,
          43,
          44,
          45,
          46,
          47,
          48,
          49,
          50,
          51,
          52,
          53,
          54,
          55,
          56,
          57,
          58,
          59,
          60
         ],
         "y": [
          57.979,
          58.6809,
          58.5835,
          58.593,
          58.6265,
          58.588800000000006,
          58.7095,
          58.5811,
          58.594699999999996,
          58.619,
          58.7247,
          58.622099999999996,
          58.5871,
          58.6096,
          58.6894,
          58.6188,
          58.6151,
          58.6295,
          58.7315,
          58.5683,
          58.6127,
          58.609300000000005,
          58.6371,
          58.6953,
          58.5002,
          58.309599999999996,
          52.7786,
          52.652,
          52.4396,
          46.944199999999995,
          46.8279,
          46.546699999999994,
          35.277,
          35.1455,
          35.1351,
          35.183,
          35.167300000000004,
          35.16,
          35.157,
          35.1441,
          35.2012,
          35.1171,
          35.1241,
          35.0614,
          34.8844,
          23.4991,
          23.3876,
          23.390400000000003,
          23.4662,
          0.0,
          0.0,
          0.0,
          0.0,
          0.0,
          0.0,
          0.0,
          0.0,
          0.0,
          0.0,
          0.0
         ],
         "type": "scatter",
         "xaxis": "x",
         "yaxis": "y"
        },
        {
         "mode": "lines",
         "name": "signal strength (dBm)",
         "x": [
          1,
          2,
          3,
          4,
          5,
          6,
          7,
          8,
          9,
          10,
          11,
          12,
          13,
          14,
          15,
          16,
          17,
          18,
          19,
          20,
          21,
          22,
          23,
          24,
          25,
          26,
          27,
          28,
          29,
          30,
          31,
          32,
          33,
          34,
          35,
          36,
          37,
          38,
          39,
          40,
          41,
          42,
          43,
          44,
          45,
          46,
          47,
          48,
          49,
          50,
          51,
          52,
          53,
          54,
          55,
          56,
          57,
          58,
          59,
          60
         ],
         "y": [
          -30.6571,
          -39.688,
          -44.9707,
          -48.7189,
          -51.6262,
          -54.0016,
          -56.01,
          -57.7498,
          -59.2844,
          -60.6571,
          -61.8989,
          -63.0325,
          -64.0754,
          -65.0409,
          -65.9398,
          -66.7807,
          -67.5706,
          -68.3153,
          -69.0197,
          -69.688,
          -70.3237,
          -70.9298,
          -71.5089,
          -72.0634,
          -72.5953,
          -73.1063,
          -73.598,
          -74.0718,
          -74.529,
          -74.9707,
          -75.398,
          -75.8116,
          -76.2125,
          -76.6015,
          -76.9791,
          -77.3462,
          -77.7032,
          -78.0506,
          -78.389,
          -78.7189,
          -79.0406,
          -79.3546,
          -79.6612,
          -79.9607,
          -80.2535,
          -80.5398,
          -80.82,
          -81.0943,
          -81.363,
          -81.6262,
          -81.8842,
          -81.8842,
          -81.8842,
          -81.8842,
          -81.8842,
          -81.8842,
          -81.8842,
          -81.8842,
          -81.8842,
          -81.8842
         ],
         "type": "scatter",
         "xaxis": "x",
         "yaxis": "y2"
        }
       ],
       "layout": {
        "template": {
         "data": {
          "histogram2dcontour": [
           {
            "type": "histogram2dcontour",
            "colorbar": {
             "outlinewidth": 0,
             "ticks": ""
            },
            "colorscale": [
             [
              0.0,
              "#0d0887"
             ],
             [
              0.1111111111111111,
              "#46039f"
             ],
             [
              0.2222222222222222,
              "#7201a8"
             ],
             [
              0.3333333333333333,
              "#9c179e"
             ],
             [
              0.4444444444444444,
              "#bd3786"
             ],
             [
              0.5555555555555556,
              "#d8576b"
             ],
             [
              0.6666666666666666,
              "#ed7953"
             ],
             [
              0.7777777777777778,
              "#fb9f3a"
             ],
             [
              0.8888888888888888,
              "#fdca26"
             ],
             [
              1.0,
              "#f0f921"
             ]
            ]
           }
          ],
          "choropleth": [
           {
            "type": "choropleth",
            "colorbar": {
             "outlinewidth": 0,
             "ticks": ""
            }
           }
          ],
          "histogram2d": [
           {
            "type": "histogram2d",
            "colorbar": {
             "outlinewidth": 0,
             "ticks": ""
            },
            "colorscale": [
             [
              0.0,
              "#0d0887"
             ],
             [
              0.1111111111111111,
              "#46039f"
             ],
             [
              0.2222222222222222,
              "#7201a8"
             ],
             [
              0.3333333333333333,
              "#9c179e"
             ],
             [
              0.4444444444444444,
              "#bd3786"
             ],
             [
              0.5555555555555556,
              "#d8576b"
             ],
             [
              0.6666666666666666,
              "#ed7953"
             ],
             [
              0.7777777777777778,
              "#fb9f3a"
             ],
             [
              0.8888888888888888,
              "#fdca26"
             ],
             [
              1.0,
              "#f0f921"
             ]
            ]
           }
          ],
          "heatmap": [
           {
            "type": "heatmap",
            "colorbar": {
             "outlinewidth": 0,
             "ticks": ""
            },
            "colorscale": [
             [
              0.0,
              "#0d0887"
             ],
             [
              0.1111111111111111,
              "#46039f"
             ],
             [
              0.2222222222222222,
              "#7201a8"
             ],
             [
              0.3333333333333333,
              "#9c179e"
             ],
             [
              0.4444444444444444,
              "#bd3786"
             ],
             [
              0.5555555555555556,
              "#d8576b"
             ],
             [
              0.6666666666666666,
              "#ed7953"
             ],
             [
              0.7777777777777778,
              "#fb9f3a"
             ],
             [
              0.8888888888888888,
              "#fdca26"
             ],
             [
              1.0,
              "#f0f921"
             ]
            ]
           }
          ],
          "heatmapgl": [
           {
            "type": "heatmapgl",
            "colorbar": {
             "outlinewidth": 0,
             "ticks": ""
            },
            "colorscale": [
             [
              0.0,
              "#0d0887"
             ],
             [
              0.1111111111111111,
              "#46039f"
             ],
             [
              0.2222222222222222,
              "#7201a8"
             ],
             [
              0.3333333333333333,
              "#9c179e"
             ],
             [
              0.4444444444444444,
              "#bd3786"
             ],
             [
              0.5555555555555556,
              "#d8576b"
             ],
             [
              0.6666666666666666,
              "#ed7953"
             ],
             [
              0.7777777777777778,
              "#fb9f3a"
             ],
             [
              0.8888888888888888,
              "#fdca26"
             ],
             [
              1.0,
              "#f0f921"
             ]
            ]
           }
          ],
          "contourcarpet": [
           {
            "type": "contourcarpet",
            "colorbar": {
             "outlinewidth": 0,
             "ticks": ""
            }
           }
          ],
          "contour": [
           {
            "type": "contour",
            "colorbar": {
             "outlinewidth": 0,
             "ticks": ""
            },
            "colorscale": [
             [
              0.0,
              "#0d0887"
             ],
             [
              0.1111111111111111,
              "#46039f"
             ],
             [
              0.2222222222222222,
              "#7201a8"
             ],
             [
              0.3333333333333333,
              "#9c179e"
             ],
             [
              0.4444444444444444,
              "#bd3786"
             ],
             [
              0.5555555555555556,
              "#d8576b"
             ],
             [
              0.6666666666666666,
              "#ed7953"
             ],
             [
              0.7777777777777778,
              "#fb9f3a"
             ],
             [
              0.8888888888888888,
              "#fdca26"
             ],
             [
              1.0,
              "#f0f921"
             ]
            ]
           }
          ],
          "surface": [
           {
            "type": "surface",
            "colorbar": {
             "outlinewidth": 0,
             "ticks": ""
            },
            "colorscale": [
             [
              0.0,
              "#0d0887"
             ],
             [
              0.1111111111111111,
              "#46039f"
             ],
             [
              0.2222222222222222,
              "#7201a8"
             ],
             [
              0.3333333333333333,
              "#9c179e"
             ],
             [
              0.4444444444444444,
              "#bd3786"
             ],
             [
              0.5555555555555556,
              "#d8576b"
             ],
             [
              0.6666666666666666,
              "#ed7953"
             ],
             [
              0.7777777777777778,
              "#fb9f3a"
             ],
             [
              0.8888888888888888,
              "#fdca26"
             ],
             [
              1.0,
              "#f0f921"
             ]
            ]
           }
          ],
          "mesh3d": [
           {
            "type": "mesh3d",
            "colorbar": {
             "outlinewidth": 0,
             "ticks": ""
            }
           }
          ],
          "scatter": [
           {
            "fillpattern": {
             "fillmode": "overlay",
             "size": 10,
             "solidity": 0.2
            },
            "type": "scatter"
           }
          ],
          "parcoords": [
           {
            "type": "parcoords",
            "line": {
             "colorbar": {
              "outlinewidth": 0,
              "ticks": ""
             }
            }
           }
          ],
          "scatterpolargl": [
           {
            "type": "scatterpolargl",
            "marker": {
             "colorbar": {
              "outlinewidth": 0,
              "ticks": ""
             }
            }
           }
          ],
          "bar": [
           {
            "error_x": {
             "color": "#2a3f5f"
            },
            "error_y": {
             "color": "#2a3f5f"
            },
            "marker": {
             "line": {
              "color": "#E5ECF6",
              "width": 0.5
             },
             "pattern": {
              "fillmode": "overlay",
              "size": 10,
              "solidity": 0.2
             }
            },
            "type": "bar"
           }
          ],
          "scattergeo": [
           {
            "type": "scattergeo",
            "marker": {
             "colorbar": {
              "outlinewidth": 0,
              "ticks": ""
             }
            }
           }
          ],
          "scatterpolar": [
           {
            "type": "scatterpolar",
            "marker": {
             "colorbar": {
              "outlinewidth": 0,
              "ticks": ""
             }
            }
           }
          ],
          "histogram": [
           {
            "marker": {
             "pattern": {
              "fillmode": "overlay",
              "size": 10,
              "solidity": 0.2
             }
            },
            "type": "histogram"
           }
          ],
          "scattergl": [
           {
            "type": "scattergl",
            "marker": {
             "colorbar": {
              "outlinewidth": 0,
              "ticks": ""
             }
            }
           }
          ],
          "scatter3d": [
           {
            "type": "scatter3d",
            "line": {
             "colorbar": {
              "outlinewidth": 0,
              "ticks": ""
             }
            },
            "marker": {
             "colorbar": {
              "outlinewidth": 0,
              "ticks": ""
             }
            }
           }
          ],
          "scattermapbox": [
           {
            "type": "scattermapbox",
            "marker": {
             "colorbar": {
              "outlinewidth": 0,
              "ticks": ""
             }
            }
           }
          ],
          "scatterternary": [
           {
            "type": "scatterternary",
            "marker": {
             "colorbar": {
              "outlinewidth": 0,
              "ticks": ""
             }
            }
           }
          ],
          "scattercarpet": [
           {
            "type": "scattercarpet",
            "marker": {
             "colorbar": {
              "outlinewidth": 0,
              "ticks": ""
             }
            }
           }
          ],
          "carpet": [
           {
            "aaxis": {
             "endlinecolor": "#2a3f5f",
             "gridcolor": "white",
             "linecolor": "white",
             "minorgridcolor": "white",
             "startlinecolor": "#2a3f5f"
            },
            "baxis": {
             "endlinecolor": "#2a3f5f",
             "gridcolor": "white",
             "linecolor": "white",
             "minorgridcolor": "white",
             "startlinecolor": "#2a3f5f"
            },
            "type": "carpet"
           }
          ],
          "table": [
           {
            "cells": {
             "fill": {
              "color": "#EBF0F8"
             },
             "line": {
              "color": "white"
             }
            },
            "header": {
             "fill": {
              "color": "#C8D4E3"
             },
             "line": {
              "color": "white"
             }
            },
            "type": "table"
           }
          ],
          "barpolar": [
           {
            "marker": {
             "line": {
              "color": "#E5ECF6",
              "width": 0.5
             },
             "pattern": {
              "fillmode": "overlay",
              "size": 10,
              "solidity": 0.2
             }
            },
            "type": "barpolar"
           }
          ],
          "pie": [
           {
            "automargin": true,
            "type": "pie"
           }
          ]
         },
         "layout": {
          "autotypenumbers": "strict",
          "colorway": [
           "#636efa",
           "#EF553B",
           "#00cc96",
           "#ab63fa",
           "#FFA15A",
           "#19d3f3",
           "#FF6692",
           "#B6E880",
           "#FF97FF",
           "#FECB52"
          ],
          "font": {
           "color": "#2a3f5f"
          },
          "hovermode": "closest",
          "hoverlabel": {
           "align": "left"
          },
          "paper_bgcolor": "white",
          "plot_bgcolor": "#E5ECF6",
          "polar": {
           "bgcolor": "#E5ECF6",
           "angularaxis": {
            "gridcolor": "white",
            "linecolor": "white",
            "ticks": ""
           },
           "radialaxis": {
            "gridcolor": "white",
            "linecolor": "white",
            "ticks": ""
           }
          },
          "ternary": {
           "bgcolor": "#E5ECF6",
           "aaxis": {
            "gridcolor": "white",
            "linecolor": "white",
            "ticks": ""
           },
           "baxis": {
            "gridcolor": "white",
            "linecolor": "white",
            "ticks": ""
           },
           "caxis": {
            "gridcolor": "white",
            "linecolor": "white",
            "ticks": ""
           }
          },
          "coloraxis": {
           "colorbar": {
            "outlinewidth": 0,
            "ticks": ""
           }
          },
          "colorscale": {
           "sequential": [
            [
             0.0,
             "#0d0887"
            ],
            [
             0.1111111111111111,
             "#46039f"
            ],
            [
             0.2222222222222222,
             "#7201a8"
            ],
            [
             0.3333333333333333,
             "#9c179e"
            ],
            [
             0.4444444444444444,
             "#bd3786"
            ],
            [
             0.5555555555555556,
             "#d8576b"
            ],
            [
             0.6666666666666666,
             "#ed7953"
            ],
            [
             0.7777777777777778,
             "#fb9f3a"
            ],
            [
             0.8888888888888888,
             "#fdca26"
            ],
            [
             1.0,
             "#f0f921"
            ]
           ],
           "sequentialminus": [
            [
             0.0,
             "#0d0887"
            ],
            [
             0.1111111111111111,
             "#46039f"
            ],
            [
             0.2222222222222222,
             "#7201a8"
            ],
            [
             0.3333333333333333,
             "#9c179e"
            ],
            [
             0.4444444444444444,
             "#bd3786"
            ],
            [
             0.5555555555555556,
             "#d8576b"
            ],
            [
             0.6666666666666666,
             "#ed7953"
            ],
            [
             0.7777777777777778,
             "#fb9f3a"
            ],
            [
             0.8888888888888888,
             "#fdca26"
            ],
            [
             1.0,
             "#f0f921"
            ]
           ],
           "diverging": [
            [
             0,
             "#8e0152"
            ],
            [
             0.1,
             "#c51b7d"
            ],
            [
             0.2,
             "#de77ae"
            ],
            [
             0.3,
             "#f1b6da"
            ],
            [
             0.4,
             "#fde0ef"
            ],
            [
             0.5,
             "#f7f7f7"
            ],
            [
             0.6,
             "#e6f5d0"
            ],
            [
             0.7,
             "#b8e186"
            ],
            [
             0.8,
             "#7fbc41"
            ],
            [
             0.9,
             "#4d9221"
            ],
            [
             1,
             "#276419"
            ]
           ]
          },
          "xaxis": {
           "gridcolor": "white",
           "linecolor": "white",
           "ticks": "",
           "title": {
            "standoff": 15
           },
           "zerolinecolor": "white",
           "automargin": true,
           "zerolinewidth": 2
          },
          "yaxis": {
           "gridcolor": "white",
           "linecolor": "white",
           "ticks": "",
           "title": {
            "standoff": 15
           },
           "zerolinecolor": "white",
           "automargin": true,
           "zerolinewidth": 2
          },
          "scene": {
           "xaxis": {
            "backgroundcolor": "#E5ECF6",
            "gridcolor": "white",
            "linecolor": "white",
            "showbackground": true,
            "ticks": "",
            "zerolinecolor": "white",
            "gridwidth": 2
           },
           "yaxis": {
            "backgroundcolor": "#E5ECF6",
            "gridcolor": "white",
            "linecolor": "white",
            "showbackground": true,
            "ticks": "",
            "zerolinecolor": "white",
            "gridwidth": 2
           },
           "zaxis": {
            "backgroundcolor": "#E5ECF6",
            "gridcolor": "white",
            "linecolor": "white",
            "showbackground": true,
            "ticks": "",
            "zerolinecolor": "white",
            "gridwidth": 2
           }
          },
          "shapedefaults": {
           "line": {
            "color": "#2a3f5f"
           }
          },
          "annotationdefaults": {
           "arrowcolor": "#2a3f5f",
           "arrowhead": 0,
           "arrowwidth": 1
          },
          "geo": {
           "bgcolor": "white",
           "landcolor": "#E5ECF6",
           "subunitcolor": "white",
           "showland": true,
           "showlakes": true,
           "lakecolor": "white"
          },
          "title": {
           "x": 0.05
          },
          "mapbox": {
           "style": "light"
          }
         }
        },
        "xaxis": {
         "anchor": "y",
         "domain": [
          0.0,
          0.94
         ],
         "title": {
          "text": "distance (meter)"
         }
        },
        "yaxis": {
         "anchor": "x",
         "domain": [
          0.0,
          1.0
         ],
         "title": {
          "text": "throughput (Mbps)"
         }
        },
        "yaxis2": {
         "anchor": "x",
         "overlaying": "y",
         "side": "right",
         "title": {
          "text": "signal strength (dBm)"
         }
        },
        "legend": {
         "x": 0,
         "y": -0.1,
         "traceorder": "normal",
         "orientation": "h"
        },
        "font": {
         "size": 17
        },
        "title": {
         "text": "Two Y-Axes Plot"
        },
        "width": 800,
        "height": 600
       },
       "config": {
        "plotlyServerURL": "https://plot.ly"
       }
      },
      "text/html": "<div>                            <div id=\"3f8d2251-8b64-4d00-b9c6-7f19d72e782b\" class=\"plotly-graph-div\" style=\"height:600px; width:800px;\"></div>            <script type=\"text/javascript\">                require([\"plotly\"], function(Plotly) {                    window.PLOTLYENV=window.PLOTLYENV || {};                                    if (document.getElementById(\"3f8d2251-8b64-4d00-b9c6-7f19d72e782b\")) {                    Plotly.newPlot(                        \"3f8d2251-8b64-4d00-b9c6-7f19d72e782b\",                        [{\"mode\":\"lines\",\"name\":\"throughput (Mbps)\",\"x\":[1,2,3,4,5,6,7,8,9,10,11,12,13,14,15,16,17,18,19,20,21,22,23,24,25,26,27,28,29,30,31,32,33,34,35,36,37,38,39,40,41,42,43,44,45,46,47,48,49,50,51,52,53,54,55,56,57,58,59,60],\"y\":[57.979,58.6809,58.5835,58.593,58.6265,58.588800000000006,58.7095,58.5811,58.594699999999996,58.619,58.7247,58.622099999999996,58.5871,58.6096,58.6894,58.6188,58.6151,58.6295,58.7315,58.5683,58.6127,58.609300000000005,58.6371,58.6953,58.5002,58.309599999999996,52.7786,52.652,52.4396,46.944199999999995,46.8279,46.546699999999994,35.277,35.1455,35.1351,35.183,35.167300000000004,35.16,35.157,35.1441,35.2012,35.1171,35.1241,35.0614,34.8844,23.4991,23.3876,23.390400000000003,23.4662,0.0,0.0,0.0,0.0,0.0,0.0,0.0,0.0,0.0,0.0,0.0],\"type\":\"scatter\",\"xaxis\":\"x\",\"yaxis\":\"y\"},{\"mode\":\"lines\",\"name\":\"signal strength (dBm)\",\"x\":[1,2,3,4,5,6,7,8,9,10,11,12,13,14,15,16,17,18,19,20,21,22,23,24,25,26,27,28,29,30,31,32,33,34,35,36,37,38,39,40,41,42,43,44,45,46,47,48,49,50,51,52,53,54,55,56,57,58,59,60],\"y\":[-30.6571,-39.688,-44.9707,-48.7189,-51.6262,-54.0016,-56.01,-57.7498,-59.2844,-60.6571,-61.8989,-63.0325,-64.0754,-65.0409,-65.9398,-66.7807,-67.5706,-68.3153,-69.0197,-69.688,-70.3237,-70.9298,-71.5089,-72.0634,-72.5953,-73.1063,-73.598,-74.0718,-74.529,-74.9707,-75.398,-75.8116,-76.2125,-76.6015,-76.9791,-77.3462,-77.7032,-78.0506,-78.389,-78.7189,-79.0406,-79.3546,-79.6612,-79.9607,-80.2535,-80.5398,-80.82,-81.0943,-81.363,-81.6262,-81.8842,-81.8842,-81.8842,-81.8842,-81.8842,-81.8842,-81.8842,-81.8842,-81.8842,-81.8842],\"type\":\"scatter\",\"xaxis\":\"x\",\"yaxis\":\"y2\"}],                        {\"template\":{\"data\":{\"histogram2dcontour\":[{\"type\":\"histogram2dcontour\",\"colorbar\":{\"outlinewidth\":0,\"ticks\":\"\"},\"colorscale\":[[0.0,\"#0d0887\"],[0.1111111111111111,\"#46039f\"],[0.2222222222222222,\"#7201a8\"],[0.3333333333333333,\"#9c179e\"],[0.4444444444444444,\"#bd3786\"],[0.5555555555555556,\"#d8576b\"],[0.6666666666666666,\"#ed7953\"],[0.7777777777777778,\"#fb9f3a\"],[0.8888888888888888,\"#fdca26\"],[1.0,\"#f0f921\"]]}],\"choropleth\":[{\"type\":\"choropleth\",\"colorbar\":{\"outlinewidth\":0,\"ticks\":\"\"}}],\"histogram2d\":[{\"type\":\"histogram2d\",\"colorbar\":{\"outlinewidth\":0,\"ticks\":\"\"},\"colorscale\":[[0.0,\"#0d0887\"],[0.1111111111111111,\"#46039f\"],[0.2222222222222222,\"#7201a8\"],[0.3333333333333333,\"#9c179e\"],[0.4444444444444444,\"#bd3786\"],[0.5555555555555556,\"#d8576b\"],[0.6666666666666666,\"#ed7953\"],[0.7777777777777778,\"#fb9f3a\"],[0.8888888888888888,\"#fdca26\"],[1.0,\"#f0f921\"]]}],\"heatmap\":[{\"type\":\"heatmap\",\"colorbar\":{\"outlinewidth\":0,\"ticks\":\"\"},\"colorscale\":[[0.0,\"#0d0887\"],[0.1111111111111111,\"#46039f\"],[0.2222222222222222,\"#7201a8\"],[0.3333333333333333,\"#9c179e\"],[0.4444444444444444,\"#bd3786\"],[0.5555555555555556,\"#d8576b\"],[0.6666666666666666,\"#ed7953\"],[0.7777777777777778,\"#fb9f3a\"],[0.8888888888888888,\"#fdca26\"],[1.0,\"#f0f921\"]]}],\"heatmapgl\":[{\"type\":\"heatmapgl\",\"colorbar\":{\"outlinewidth\":0,\"ticks\":\"\"},\"colorscale\":[[0.0,\"#0d0887\"],[0.1111111111111111,\"#46039f\"],[0.2222222222222222,\"#7201a8\"],[0.3333333333333333,\"#9c179e\"],[0.4444444444444444,\"#bd3786\"],[0.5555555555555556,\"#d8576b\"],[0.6666666666666666,\"#ed7953\"],[0.7777777777777778,\"#fb9f3a\"],[0.8888888888888888,\"#fdca26\"],[1.0,\"#f0f921\"]]}],\"contourcarpet\":[{\"type\":\"contourcarpet\",\"colorbar\":{\"outlinewidth\":0,\"ticks\":\"\"}}],\"contour\":[{\"type\":\"contour\",\"colorbar\":{\"outlinewidth\":0,\"ticks\":\"\"},\"colorscale\":[[0.0,\"#0d0887\"],[0.1111111111111111,\"#46039f\"],[0.2222222222222222,\"#7201a8\"],[0.3333333333333333,\"#9c179e\"],[0.4444444444444444,\"#bd3786\"],[0.5555555555555556,\"#d8576b\"],[0.6666666666666666,\"#ed7953\"],[0.7777777777777778,\"#fb9f3a\"],[0.8888888888888888,\"#fdca26\"],[1.0,\"#f0f921\"]]}],\"surface\":[{\"type\":\"surface\",\"colorbar\":{\"outlinewidth\":0,\"ticks\":\"\"},\"colorscale\":[[0.0,\"#0d0887\"],[0.1111111111111111,\"#46039f\"],[0.2222222222222222,\"#7201a8\"],[0.3333333333333333,\"#9c179e\"],[0.4444444444444444,\"#bd3786\"],[0.5555555555555556,\"#d8576b\"],[0.6666666666666666,\"#ed7953\"],[0.7777777777777778,\"#fb9f3a\"],[0.8888888888888888,\"#fdca26\"],[1.0,\"#f0f921\"]]}],\"mesh3d\":[{\"type\":\"mesh3d\",\"colorbar\":{\"outlinewidth\":0,\"ticks\":\"\"}}],\"scatter\":[{\"fillpattern\":{\"fillmode\":\"overlay\",\"size\":10,\"solidity\":0.2},\"type\":\"scatter\"}],\"parcoords\":[{\"type\":\"parcoords\",\"line\":{\"colorbar\":{\"outlinewidth\":0,\"ticks\":\"\"}}}],\"scatterpolargl\":[{\"type\":\"scatterpolargl\",\"marker\":{\"colorbar\":{\"outlinewidth\":0,\"ticks\":\"\"}}}],\"bar\":[{\"error_x\":{\"color\":\"#2a3f5f\"},\"error_y\":{\"color\":\"#2a3f5f\"},\"marker\":{\"line\":{\"color\":\"#E5ECF6\",\"width\":0.5},\"pattern\":{\"fillmode\":\"overlay\",\"size\":10,\"solidity\":0.2}},\"type\":\"bar\"}],\"scattergeo\":[{\"type\":\"scattergeo\",\"marker\":{\"colorbar\":{\"outlinewidth\":0,\"ticks\":\"\"}}}],\"scatterpolar\":[{\"type\":\"scatterpolar\",\"marker\":{\"colorbar\":{\"outlinewidth\":0,\"ticks\":\"\"}}}],\"histogram\":[{\"marker\":{\"pattern\":{\"fillmode\":\"overlay\",\"size\":10,\"solidity\":0.2}},\"type\":\"histogram\"}],\"scattergl\":[{\"type\":\"scattergl\",\"marker\":{\"colorbar\":{\"outlinewidth\":0,\"ticks\":\"\"}}}],\"scatter3d\":[{\"type\":\"scatter3d\",\"line\":{\"colorbar\":{\"outlinewidth\":0,\"ticks\":\"\"}},\"marker\":{\"colorbar\":{\"outlinewidth\":0,\"ticks\":\"\"}}}],\"scattermapbox\":[{\"type\":\"scattermapbox\",\"marker\":{\"colorbar\":{\"outlinewidth\":0,\"ticks\":\"\"}}}],\"scatterternary\":[{\"type\":\"scatterternary\",\"marker\":{\"colorbar\":{\"outlinewidth\":0,\"ticks\":\"\"}}}],\"scattercarpet\":[{\"type\":\"scattercarpet\",\"marker\":{\"colorbar\":{\"outlinewidth\":0,\"ticks\":\"\"}}}],\"carpet\":[{\"aaxis\":{\"endlinecolor\":\"#2a3f5f\",\"gridcolor\":\"white\",\"linecolor\":\"white\",\"minorgridcolor\":\"white\",\"startlinecolor\":\"#2a3f5f\"},\"baxis\":{\"endlinecolor\":\"#2a3f5f\",\"gridcolor\":\"white\",\"linecolor\":\"white\",\"minorgridcolor\":\"white\",\"startlinecolor\":\"#2a3f5f\"},\"type\":\"carpet\"}],\"table\":[{\"cells\":{\"fill\":{\"color\":\"#EBF0F8\"},\"line\":{\"color\":\"white\"}},\"header\":{\"fill\":{\"color\":\"#C8D4E3\"},\"line\":{\"color\":\"white\"}},\"type\":\"table\"}],\"barpolar\":[{\"marker\":{\"line\":{\"color\":\"#E5ECF6\",\"width\":0.5},\"pattern\":{\"fillmode\":\"overlay\",\"size\":10,\"solidity\":0.2}},\"type\":\"barpolar\"}],\"pie\":[{\"automargin\":true,\"type\":\"pie\"}]},\"layout\":{\"autotypenumbers\":\"strict\",\"colorway\":[\"#636efa\",\"#EF553B\",\"#00cc96\",\"#ab63fa\",\"#FFA15A\",\"#19d3f3\",\"#FF6692\",\"#B6E880\",\"#FF97FF\",\"#FECB52\"],\"font\":{\"color\":\"#2a3f5f\"},\"hovermode\":\"closest\",\"hoverlabel\":{\"align\":\"left\"},\"paper_bgcolor\":\"white\",\"plot_bgcolor\":\"#E5ECF6\",\"polar\":{\"bgcolor\":\"#E5ECF6\",\"angularaxis\":{\"gridcolor\":\"white\",\"linecolor\":\"white\",\"ticks\":\"\"},\"radialaxis\":{\"gridcolor\":\"white\",\"linecolor\":\"white\",\"ticks\":\"\"}},\"ternary\":{\"bgcolor\":\"#E5ECF6\",\"aaxis\":{\"gridcolor\":\"white\",\"linecolor\":\"white\",\"ticks\":\"\"},\"baxis\":{\"gridcolor\":\"white\",\"linecolor\":\"white\",\"ticks\":\"\"},\"caxis\":{\"gridcolor\":\"white\",\"linecolor\":\"white\",\"ticks\":\"\"}},\"coloraxis\":{\"colorbar\":{\"outlinewidth\":0,\"ticks\":\"\"}},\"colorscale\":{\"sequential\":[[0.0,\"#0d0887\"],[0.1111111111111111,\"#46039f\"],[0.2222222222222222,\"#7201a8\"],[0.3333333333333333,\"#9c179e\"],[0.4444444444444444,\"#bd3786\"],[0.5555555555555556,\"#d8576b\"],[0.6666666666666666,\"#ed7953\"],[0.7777777777777778,\"#fb9f3a\"],[0.8888888888888888,\"#fdca26\"],[1.0,\"#f0f921\"]],\"sequentialminus\":[[0.0,\"#0d0887\"],[0.1111111111111111,\"#46039f\"],[0.2222222222222222,\"#7201a8\"],[0.3333333333333333,\"#9c179e\"],[0.4444444444444444,\"#bd3786\"],[0.5555555555555556,\"#d8576b\"],[0.6666666666666666,\"#ed7953\"],[0.7777777777777778,\"#fb9f3a\"],[0.8888888888888888,\"#fdca26\"],[1.0,\"#f0f921\"]],\"diverging\":[[0,\"#8e0152\"],[0.1,\"#c51b7d\"],[0.2,\"#de77ae\"],[0.3,\"#f1b6da\"],[0.4,\"#fde0ef\"],[0.5,\"#f7f7f7\"],[0.6,\"#e6f5d0\"],[0.7,\"#b8e186\"],[0.8,\"#7fbc41\"],[0.9,\"#4d9221\"],[1,\"#276419\"]]},\"xaxis\":{\"gridcolor\":\"white\",\"linecolor\":\"white\",\"ticks\":\"\",\"title\":{\"standoff\":15},\"zerolinecolor\":\"white\",\"automargin\":true,\"zerolinewidth\":2},\"yaxis\":{\"gridcolor\":\"white\",\"linecolor\":\"white\",\"ticks\":\"\",\"title\":{\"standoff\":15},\"zerolinecolor\":\"white\",\"automargin\":true,\"zerolinewidth\":2},\"scene\":{\"xaxis\":{\"backgroundcolor\":\"#E5ECF6\",\"gridcolor\":\"white\",\"linecolor\":\"white\",\"showbackground\":true,\"ticks\":\"\",\"zerolinecolor\":\"white\",\"gridwidth\":2},\"yaxis\":{\"backgroundcolor\":\"#E5ECF6\",\"gridcolor\":\"white\",\"linecolor\":\"white\",\"showbackground\":true,\"ticks\":\"\",\"zerolinecolor\":\"white\",\"gridwidth\":2},\"zaxis\":{\"backgroundcolor\":\"#E5ECF6\",\"gridcolor\":\"white\",\"linecolor\":\"white\",\"showbackground\":true,\"ticks\":\"\",\"zerolinecolor\":\"white\",\"gridwidth\":2}},\"shapedefaults\":{\"line\":{\"color\":\"#2a3f5f\"}},\"annotationdefaults\":{\"arrowcolor\":\"#2a3f5f\",\"arrowhead\":0,\"arrowwidth\":1},\"geo\":{\"bgcolor\":\"white\",\"landcolor\":\"#E5ECF6\",\"subunitcolor\":\"white\",\"showland\":true,\"showlakes\":true,\"lakecolor\":\"white\"},\"title\":{\"x\":0.05},\"mapbox\":{\"style\":\"light\"}}},\"xaxis\":{\"anchor\":\"y\",\"domain\":[0.0,0.94],\"title\":{\"text\":\"distance (meter)\"}},\"yaxis\":{\"anchor\":\"x\",\"domain\":[0.0,1.0],\"title\":{\"text\":\"throughput (Mbps)\"}},\"yaxis2\":{\"anchor\":\"x\",\"overlaying\":\"y\",\"side\":\"right\",\"title\":{\"text\":\"signal strength (dBm)\"}},\"legend\":{\"x\":0,\"y\":-0.1,\"traceorder\":\"normal\",\"orientation\":\"h\"},\"font\":{\"size\":17},\"title\":{\"text\":\"Two Y-Axes Plot\"},\"width\":800,\"height\":600},                        {\"responsive\": true}                    ).then(function(){\n                            \nvar gd = document.getElementById('3f8d2251-8b64-4d00-b9c6-7f19d72e782b');\nvar x = new MutationObserver(function (mutations, observer) {{\n        var display = window.getComputedStyle(gd).display;\n        if (!display || display === 'none') {{\n            console.log([gd, 'removed!']);\n            Plotly.purge(gd);\n            observer.disconnect();\n        }}\n}});\n\n// Listen for the removal of the full notebook cells\nvar notebookContainer = gd.closest('#notebook-container');\nif (notebookContainer) {{\n    x.observe(notebookContainer, {childList: true});\n}}\n\n// Listen for the clearing of the current output cell\nvar outputEl = gd.closest('.output');\nif (outputEl) {{\n    x.observe(outputEl, {childList: true});\n}}\n\n                        })                };                });            </script>        </div>"
     },
     "metadata": {},
     "output_type": "display_data"
    }
   ],
   "source": [
    "import plotly.subplots as sp\n",
    "import plotly.graph_objects as go\n",
    "\n",
    "\n",
    "# Create a subplot with two y-axes\n",
    "fig = sp.make_subplots(specs=[[{\"secondary_y\": True}]])\n",
    "\n",
    "\n",
    "# Add traces for kbps values on the left y-axis\n",
    "fig.add_trace(go.Scatter(x=udpClientDf_1['dist'], y=udpClientDf_1['kbps']/1000, mode='lines', name='throughput (Mbps)'), secondary_y=False)\n",
    "\n",
    "# Add traces for dB values on the right y-axis\n",
    "fig.add_trace(go.Scatter(x=udpClientDf_1['dist'], y=udpClientDf_1['signal'], mode='lines', name='signal strength (dBm)'), secondary_y=True)\n",
    "\n",
    "# Update layout\n",
    "fig.update_layout(title='Two Y-Axes Plot',\n",
    "                  xaxis_title='distance (meter)',\n",
    "                  yaxis_title='throughput (Mbps)',\n",
    "                  yaxis2_title='signal strength (dBm)',\n",
    "                  legend=dict(x=0, y=-0.1, traceorder='normal', orientation='h'),\n",
    "                  font=dict(size=17),\n",
    "                  width=800, height=600)\n",
    "                  \n",
    "\n",
    "# Show the plot\n",
    "fig.show()\n"
   ],
   "metadata": {
    "collapsed": false,
    "ExecuteTime": {
     "end_time": "2024-04-17T15:33:26.252933660Z",
     "start_time": "2024-04-17T15:33:26.186256180Z"
    }
   },
   "id": "15956ae0dd67d4ea",
   "execution_count": 11
  },
  {
   "cell_type": "code",
   "outputs": [],
   "source": [
    "udpClientCsv = \"/home/chandra/CodeBase/Thesis/ns-allinone-3.39/ns-3.39/scratch/data/simulation-downstream_jan26/baseline-udp/2024-01-25_19:16:37-upstream/udp-flow0-client.csv\"\n",
    "udpClientDf_1 = pd.read_csv(udpClientCsv)\n",
    "udpClientDf_1['signal'] = pd.to_numeric(udpClientDf_1['signal'], errors='coerce')\n",
    "\n",
    "udpClientDf_1['source'] = 'UDP'\n",
    "\n",
    "\n",
    "comSig = pd.concat([udpClientDf_1])\n",
    "\n",
    "\n",
    "comSig['signal'] = pd.to_numeric(comSig['signal'], errors='coerce')\n",
    "\n",
    "# Plotting the combined data\n",
    "figSig = px.line(comSig, x=comSig.index, y='signal', color='source',\n",
    "                 labels={'index': 'meter detik', 'signal': 'kuat sinyal (dBm)'}, title='Combined Dataframes', width=800, height=400)\n",
    "\n",
    "# Show the legend\n",
    "figSig.update_layout(showlegend=True)\n",
    "\n",
    "figSig.show()"
   ],
   "metadata": {
    "collapsed": false
   },
   "id": "fc6a433afc5b5924",
   "execution_count": null
  },
  {
   "cell_type": "code",
   "outputs": [],
   "source": [
    "import numpy as np\n",
    "import pandas as pd\n",
    "import plotly.graph_objects as go\n",
    "\n",
    "# Step 2: Create or load your DataFrame\n",
    "np.random.seed(42)\n",
    "data = {'Date': pd.date_range(start='2022-01-01', periods=100),\n",
    "        'Value': np.random.rand(100) * 100}\n",
    "\n",
    "df = pd.DataFrame(data)\n",
    "\n",
    "# Step 3: Calculate the moving average using NumPy\n",
    "window_size = 10\n",
    "moving_avg = np.convolve(df['Value'], np.ones(window_size)/window_size, mode='valid')\n",
    "\n",
    "# Step 4: Create a Plotly figure\n",
    "fig = go.Figure()\n",
    "\n",
    "# Add trace for the original DataFrame with dots\n",
    "fig.add_trace(go.Scatter(x=df['Date'], y=df['Value'], mode='markers', name='Original'))\n",
    "\n",
    "# Add trace for the moving average with dots\n",
    "fig.add_trace(go.Line(x=df['Date'][window_size-1:], y=moving_avg, mode='markers', name=f'Moving Average ({window_size}-day)'))\n",
    "\n",
    "# Step 5: Display the plot\n",
    "fig.update_layout(title='DataFrame with Moving Average',\n",
    "                  xaxis_title='Date',\n",
    "                  yaxis_title='Value')\n",
    "fig.show()\n"
   ],
   "metadata": {
    "collapsed": false
   },
   "id": "e9d88ab415675a13",
   "execution_count": null
  }
 ],
 "metadata": {
  "kernelspec": {
   "display_name": "Python 3",
   "language": "python",
   "name": "python3"
  },
  "language_info": {
   "codemirror_mode": {
    "name": "ipython",
    "version": 2
   },
   "file_extension": ".py",
   "mimetype": "text/x-python",
   "name": "python",
   "nbconvert_exporter": "python",
   "pygments_lexer": "ipython2",
   "version": "2.7.6"
  }
 },
 "nbformat": 4,
 "nbformat_minor": 5
}
