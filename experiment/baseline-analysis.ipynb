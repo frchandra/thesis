{
 "cells": [
  {
   "cell_type": "code",
   "execution_count": 7,
   "id": "5e8df638-ef18-4509-898a-2cd97a8abb77",
   "metadata": {},
   "outputs": [],
   "source": [
    "import pandas as pd\n",
    "import plotly.express as px\n",
    "from IPython.display import display"
   ]
  },
  {
   "cell_type": "code",
   "execution_count": 10,
   "id": "ac40d72f-76f6-4963-9173-6e0f323dcc6e",
   "metadata": {
    "collapsed": true,
    "jupyter": {
     "outputs_hidden": true
    },
    "scrolled": true
   },
   "outputs": [
    {
     "data": {
      "text/html": [
       "<div>\n",
       "<style scoped>\n",
       "    .dataframe tbody tr th:only-of-type {\n",
       "        vertical-align: middle;\n",
       "    }\n",
       "\n",
       "    .dataframe tbody tr th {\n",
       "        vertical-align: top;\n",
       "    }\n",
       "\n",
       "    .dataframe thead th {\n",
       "        text-align: right;\n",
       "    }\n",
       "</style>\n",
       "<table border=\"1\" class=\"dataframe\">\n",
       "  <thead>\n",
       "    <tr style=\"text-align: right;\">\n",
       "      <th></th>\n",
       "      <th>dist</th>\n",
       "      <th>kbps</th>\n",
       "      <th>jitter_mics</th>\n",
       "      <th>plr</th>\n",
       "      <th>pdr</th>\n",
       "      <th>delay_mics</th>\n",
       "      <th>pkt_sent</th>\n",
       "      <th>pkt_rcv</th>\n",
       "      <th>pkt_loss</th>\n",
       "      <th>source</th>\n",
       "      <th>dest</th>\n",
       "    </tr>\n",
       "  </thead>\n",
       "  <tbody>\n",
       "    <tr>\n",
       "      <th>0</th>\n",
       "      <td>1</td>\n",
       "      <td>58205.3</td>\n",
       "      <td>+4.0836e+08ns</td>\n",
       "      <td>41</td>\n",
       "      <td>58</td>\n",
       "      <td>+1.08006e+12ns</td>\n",
       "      <td>8802</td>\n",
       "      <td>5144</td>\n",
       "      <td>3658</td>\n",
       "      <td>10.0.1.1</td>\n",
       "      <td>10.2.5.2</td>\n",
       "    </tr>\n",
       "    <tr>\n",
       "      <th>1</th>\n",
       "      <td>2</td>\n",
       "      <td>58680.9</td>\n",
       "      <td>+4.09034e+08ns</td>\n",
       "      <td>41</td>\n",
       "      <td>58</td>\n",
       "      <td>+3.19102e+12ns</td>\n",
       "      <td>8803</td>\n",
       "      <td>5187</td>\n",
       "      <td>3616</td>\n",
       "      <td>10.0.1.1</td>\n",
       "      <td>10.2.5.2</td>\n",
       "    </tr>\n",
       "    <tr>\n",
       "      <th>2</th>\n",
       "      <td>3</td>\n",
       "      <td>58582.0</td>\n",
       "      <td>+4.08609e+08ns</td>\n",
       "      <td>41</td>\n",
       "      <td>58</td>\n",
       "      <td>+5.2627e+12ns</td>\n",
       "      <td>8803</td>\n",
       "      <td>5178</td>\n",
       "      <td>3625</td>\n",
       "      <td>10.0.1.1</td>\n",
       "      <td>10.2.5.2</td>\n",
       "    </tr>\n",
       "    <tr>\n",
       "      <th>3</th>\n",
       "      <td>4</td>\n",
       "      <td>58640.7</td>\n",
       "      <td>+4.07014e+08ns</td>\n",
       "      <td>41</td>\n",
       "      <td>58</td>\n",
       "      <td>+7.31597e+12ns</td>\n",
       "      <td>8803</td>\n",
       "      <td>5183</td>\n",
       "      <td>3620</td>\n",
       "      <td>10.0.1.1</td>\n",
       "      <td>10.2.5.2</td>\n",
       "    </tr>\n",
       "    <tr>\n",
       "      <th>4</th>\n",
       "      <td>5</td>\n",
       "      <td>58523.6</td>\n",
       "      <td>+4.11754e+08ns</td>\n",
       "      <td>41</td>\n",
       "      <td>58</td>\n",
       "      <td>+9.31583e+12ns</td>\n",
       "      <td>8803</td>\n",
       "      <td>5172</td>\n",
       "      <td>3631</td>\n",
       "      <td>10.0.1.1</td>\n",
       "      <td>10.2.5.2</td>\n",
       "    </tr>\n",
       "    <tr>\n",
       "      <th>5</th>\n",
       "      <td>6</td>\n",
       "      <td>58674.2</td>\n",
       "      <td>+7.81356e+08ns</td>\n",
       "      <td>41</td>\n",
       "      <td>58</td>\n",
       "      <td>+1.03385e+13ns</td>\n",
       "      <td>8802</td>\n",
       "      <td>5185</td>\n",
       "      <td>3617</td>\n",
       "      <td>10.0.1.1</td>\n",
       "      <td>10.2.5.2</td>\n",
       "    </tr>\n",
       "    <tr>\n",
       "      <th>6</th>\n",
       "      <td>7</td>\n",
       "      <td>58639.9</td>\n",
       "      <td>+7.88867e+08ns</td>\n",
       "      <td>41</td>\n",
       "      <td>58</td>\n",
       "      <td>+1.02411e+13ns</td>\n",
       "      <td>8803</td>\n",
       "      <td>5183</td>\n",
       "      <td>3620</td>\n",
       "      <td>10.0.1.1</td>\n",
       "      <td>10.2.5.2</td>\n",
       "    </tr>\n",
       "    <tr>\n",
       "      <th>7</th>\n",
       "      <td>8</td>\n",
       "      <td>58617.8</td>\n",
       "      <td>+7.90815e+08ns</td>\n",
       "      <td>41</td>\n",
       "      <td>58</td>\n",
       "      <td>+1.01422e+13ns</td>\n",
       "      <td>8803</td>\n",
       "      <td>5181</td>\n",
       "      <td>3622</td>\n",
       "      <td>10.0.1.1</td>\n",
       "      <td>10.2.5.2</td>\n",
       "    </tr>\n",
       "    <tr>\n",
       "      <th>8</th>\n",
       "      <td>9</td>\n",
       "      <td>58625.0</td>\n",
       "      <td>+7.88323e+08ns</td>\n",
       "      <td>41</td>\n",
       "      <td>58</td>\n",
       "      <td>+1.00549e+13ns</td>\n",
       "      <td>8803</td>\n",
       "      <td>5182</td>\n",
       "      <td>3621</td>\n",
       "      <td>10.0.1.1</td>\n",
       "      <td>10.2.5.2</td>\n",
       "    </tr>\n",
       "    <tr>\n",
       "      <th>9</th>\n",
       "      <td>10</td>\n",
       "      <td>58565.0</td>\n",
       "      <td>+7.87493e+08ns</td>\n",
       "      <td>41</td>\n",
       "      <td>58</td>\n",
       "      <td>+9.95847e+12ns</td>\n",
       "      <td>8803</td>\n",
       "      <td>5176</td>\n",
       "      <td>3627</td>\n",
       "      <td>10.0.1.1</td>\n",
       "      <td>10.2.5.2</td>\n",
       "    </tr>\n",
       "  </tbody>\n",
       "</table>\n",
       "</div>"
      ],
      "text/plain": [
       "   dist     kbps     jitter_mics  plr  pdr      delay_mics  pkt_sent  pkt_rcv  \\\n",
       "0     1  58205.3   +4.0836e+08ns   41   58  +1.08006e+12ns      8802     5144   \n",
       "1     2  58680.9  +4.09034e+08ns   41   58  +3.19102e+12ns      8803     5187   \n",
       "2     3  58582.0  +4.08609e+08ns   41   58   +5.2627e+12ns      8803     5178   \n",
       "3     4  58640.7  +4.07014e+08ns   41   58  +7.31597e+12ns      8803     5183   \n",
       "4     5  58523.6  +4.11754e+08ns   41   58  +9.31583e+12ns      8803     5172   \n",
       "5     6  58674.2  +7.81356e+08ns   41   58  +1.03385e+13ns      8802     5185   \n",
       "6     7  58639.9  +7.88867e+08ns   41   58  +1.02411e+13ns      8803     5183   \n",
       "7     8  58617.8  +7.90815e+08ns   41   58  +1.01422e+13ns      8803     5181   \n",
       "8     9  58625.0  +7.88323e+08ns   41   58  +1.00549e+13ns      8803     5182   \n",
       "9    10  58565.0  +7.87493e+08ns   41   58  +9.95847e+12ns      8803     5176   \n",
       "\n",
       "   pkt_loss    source      dest  \n",
       "0      3658  10.0.1.1  10.2.5.2  \n",
       "1      3616  10.0.1.1  10.2.5.2  \n",
       "2      3625  10.0.1.1  10.2.5.2  \n",
       "3      3620  10.0.1.1  10.2.5.2  \n",
       "4      3631  10.0.1.1  10.2.5.2  \n",
       "5      3617  10.0.1.1  10.2.5.2  \n",
       "6      3620  10.0.1.1  10.2.5.2  \n",
       "7      3622  10.0.1.1  10.2.5.2  \n",
       "8      3621  10.0.1.1  10.2.5.2  \n",
       "9      3627  10.0.1.1  10.2.5.2  "
      ]
     },
     "metadata": {},
     "output_type": "display_data"
    },
    {
     "data": {
      "text/html": [
       "<div>\n",
       "<style scoped>\n",
       "    .dataframe tbody tr th:only-of-type {\n",
       "        vertical-align: middle;\n",
       "    }\n",
       "\n",
       "    .dataframe tbody tr th {\n",
       "        vertical-align: top;\n",
       "    }\n",
       "\n",
       "    .dataframe thead th {\n",
       "        text-align: right;\n",
       "    }\n",
       "</style>\n",
       "<table border=\"1\" class=\"dataframe\">\n",
       "  <thead>\n",
       "    <tr style=\"text-align: right;\">\n",
       "      <th></th>\n",
       "      <th>dist</th>\n",
       "      <th>kbps</th>\n",
       "      <th>jitter_mics</th>\n",
       "      <th>plr</th>\n",
       "      <th>pdr</th>\n",
       "      <th>delay_mics</th>\n",
       "      <th>pkt_sent</th>\n",
       "      <th>pkt_rcv</th>\n",
       "      <th>pkt_loss</th>\n",
       "      <th>source</th>\n",
       "      <th>dest</th>\n",
       "    </tr>\n",
       "  </thead>\n",
       "  <tbody>\n",
       "    <tr>\n",
       "      <th>0</th>\n",
       "      <td>1</td>\n",
       "      <td>58205.3</td>\n",
       "      <td>+4.0836e+08ns</td>\n",
       "      <td>41</td>\n",
       "      <td>58</td>\n",
       "      <td>+1.08006e+12ns</td>\n",
       "      <td>8802</td>\n",
       "      <td>5144</td>\n",
       "      <td>3658</td>\n",
       "      <td>10.0.1.1</td>\n",
       "      <td>10.2.5.2</td>\n",
       "    </tr>\n",
       "    <tr>\n",
       "      <th>1</th>\n",
       "      <td>2</td>\n",
       "      <td>58680.9</td>\n",
       "      <td>+4.09034e+08ns</td>\n",
       "      <td>41</td>\n",
       "      <td>58</td>\n",
       "      <td>+3.19102e+12ns</td>\n",
       "      <td>8803</td>\n",
       "      <td>5187</td>\n",
       "      <td>3616</td>\n",
       "      <td>10.0.1.1</td>\n",
       "      <td>10.2.5.2</td>\n",
       "    </tr>\n",
       "    <tr>\n",
       "      <th>2</th>\n",
       "      <td>3</td>\n",
       "      <td>58582.0</td>\n",
       "      <td>+4.08609e+08ns</td>\n",
       "      <td>41</td>\n",
       "      <td>58</td>\n",
       "      <td>+5.2627e+12ns</td>\n",
       "      <td>8803</td>\n",
       "      <td>5178</td>\n",
       "      <td>3625</td>\n",
       "      <td>10.0.1.1</td>\n",
       "      <td>10.2.5.2</td>\n",
       "    </tr>\n",
       "    <tr>\n",
       "      <th>3</th>\n",
       "      <td>4</td>\n",
       "      <td>58640.7</td>\n",
       "      <td>+4.07014e+08ns</td>\n",
       "      <td>41</td>\n",
       "      <td>58</td>\n",
       "      <td>+7.31597e+12ns</td>\n",
       "      <td>8803</td>\n",
       "      <td>5183</td>\n",
       "      <td>3620</td>\n",
       "      <td>10.0.1.1</td>\n",
       "      <td>10.2.5.2</td>\n",
       "    </tr>\n",
       "    <tr>\n",
       "      <th>4</th>\n",
       "      <td>5</td>\n",
       "      <td>58523.6</td>\n",
       "      <td>+4.11754e+08ns</td>\n",
       "      <td>41</td>\n",
       "      <td>58</td>\n",
       "      <td>+9.31583e+12ns</td>\n",
       "      <td>8803</td>\n",
       "      <td>5172</td>\n",
       "      <td>3631</td>\n",
       "      <td>10.0.1.1</td>\n",
       "      <td>10.2.5.2</td>\n",
       "    </tr>\n",
       "    <tr>\n",
       "      <th>5</th>\n",
       "      <td>6</td>\n",
       "      <td>58674.2</td>\n",
       "      <td>+7.81356e+08ns</td>\n",
       "      <td>41</td>\n",
       "      <td>58</td>\n",
       "      <td>+1.03385e+13ns</td>\n",
       "      <td>8802</td>\n",
       "      <td>5185</td>\n",
       "      <td>3617</td>\n",
       "      <td>10.0.1.1</td>\n",
       "      <td>10.2.5.2</td>\n",
       "    </tr>\n",
       "    <tr>\n",
       "      <th>6</th>\n",
       "      <td>7</td>\n",
       "      <td>58639.9</td>\n",
       "      <td>+7.88867e+08ns</td>\n",
       "      <td>41</td>\n",
       "      <td>58</td>\n",
       "      <td>+1.02411e+13ns</td>\n",
       "      <td>8803</td>\n",
       "      <td>5183</td>\n",
       "      <td>3620</td>\n",
       "      <td>10.0.1.1</td>\n",
       "      <td>10.2.5.2</td>\n",
       "    </tr>\n",
       "    <tr>\n",
       "      <th>7</th>\n",
       "      <td>8</td>\n",
       "      <td>58617.8</td>\n",
       "      <td>+7.90815e+08ns</td>\n",
       "      <td>41</td>\n",
       "      <td>58</td>\n",
       "      <td>+1.01422e+13ns</td>\n",
       "      <td>8803</td>\n",
       "      <td>5181</td>\n",
       "      <td>3622</td>\n",
       "      <td>10.0.1.1</td>\n",
       "      <td>10.2.5.2</td>\n",
       "    </tr>\n",
       "    <tr>\n",
       "      <th>8</th>\n",
       "      <td>9</td>\n",
       "      <td>58625.0</td>\n",
       "      <td>+7.88323e+08ns</td>\n",
       "      <td>41</td>\n",
       "      <td>58</td>\n",
       "      <td>+1.00549e+13ns</td>\n",
       "      <td>8803</td>\n",
       "      <td>5182</td>\n",
       "      <td>3621</td>\n",
       "      <td>10.0.1.1</td>\n",
       "      <td>10.2.5.2</td>\n",
       "    </tr>\n",
       "    <tr>\n",
       "      <th>9</th>\n",
       "      <td>10</td>\n",
       "      <td>58565.0</td>\n",
       "      <td>+7.87493e+08ns</td>\n",
       "      <td>41</td>\n",
       "      <td>58</td>\n",
       "      <td>+9.95847e+12ns</td>\n",
       "      <td>8803</td>\n",
       "      <td>5176</td>\n",
       "      <td>3627</td>\n",
       "      <td>10.0.1.1</td>\n",
       "      <td>10.2.5.2</td>\n",
       "    </tr>\n",
       "  </tbody>\n",
       "</table>\n",
       "</div>"
      ],
      "text/plain": [
       "   dist     kbps     jitter_mics  plr  pdr      delay_mics  pkt_sent  pkt_rcv  \\\n",
       "0     1  58205.3   +4.0836e+08ns   41   58  +1.08006e+12ns      8802     5144   \n",
       "1     2  58680.9  +4.09034e+08ns   41   58  +3.19102e+12ns      8803     5187   \n",
       "2     3  58582.0  +4.08609e+08ns   41   58   +5.2627e+12ns      8803     5178   \n",
       "3     4  58640.7  +4.07014e+08ns   41   58  +7.31597e+12ns      8803     5183   \n",
       "4     5  58523.6  +4.11754e+08ns   41   58  +9.31583e+12ns      8803     5172   \n",
       "5     6  58674.2  +7.81356e+08ns   41   58  +1.03385e+13ns      8802     5185   \n",
       "6     7  58639.9  +7.88867e+08ns   41   58  +1.02411e+13ns      8803     5183   \n",
       "7     8  58617.8  +7.90815e+08ns   41   58  +1.01422e+13ns      8803     5181   \n",
       "8     9  58625.0  +7.88323e+08ns   41   58  +1.00549e+13ns      8803     5182   \n",
       "9    10  58565.0  +7.87493e+08ns   41   58  +9.95847e+12ns      8803     5176   \n",
       "\n",
       "   pkt_loss    source      dest  \n",
       "0      3658  10.0.1.1  10.2.5.2  \n",
       "1      3616  10.0.1.1  10.2.5.2  \n",
       "2      3625  10.0.1.1  10.2.5.2  \n",
       "3      3620  10.0.1.1  10.2.5.2  \n",
       "4      3631  10.0.1.1  10.2.5.2  \n",
       "5      3617  10.0.1.1  10.2.5.2  \n",
       "6      3620  10.0.1.1  10.2.5.2  \n",
       "7      3622  10.0.1.1  10.2.5.2  \n",
       "8      3621  10.0.1.1  10.2.5.2  \n",
       "9      3627  10.0.1.1  10.2.5.2  "
      ]
     },
     "metadata": {},
     "output_type": "display_data"
    },
    {
     "data": {
      "text/html": [
       "<div>\n",
       "<style scoped>\n",
       "    .dataframe tbody tr th:only-of-type {\n",
       "        vertical-align: middle;\n",
       "    }\n",
       "\n",
       "    .dataframe tbody tr th {\n",
       "        vertical-align: top;\n",
       "    }\n",
       "\n",
       "    .dataframe thead th {\n",
       "        text-align: right;\n",
       "    }\n",
       "</style>\n",
       "<table border=\"1\" class=\"dataframe\">\n",
       "  <thead>\n",
       "    <tr style=\"text-align: right;\">\n",
       "      <th></th>\n",
       "      <th>dist</th>\n",
       "      <th>kbps</th>\n",
       "      <th>jitter_mics</th>\n",
       "      <th>plr</th>\n",
       "      <th>pdr</th>\n",
       "      <th>delay_mics</th>\n",
       "      <th>pkt_sent</th>\n",
       "      <th>pkt_rcv</th>\n",
       "      <th>pkt_loss</th>\n",
       "      <th>source</th>\n",
       "      <th>dest</th>\n",
       "    </tr>\n",
       "  </thead>\n",
       "  <tbody>\n",
       "    <tr>\n",
       "      <th>0</th>\n",
       "      <td>1</td>\n",
       "      <td>58205.3</td>\n",
       "      <td>+4.0836e+08ns</td>\n",
       "      <td>41</td>\n",
       "      <td>58</td>\n",
       "      <td>+1.08006e+12ns</td>\n",
       "      <td>8802</td>\n",
       "      <td>5144</td>\n",
       "      <td>3658</td>\n",
       "      <td>10.0.1.1</td>\n",
       "      <td>10.2.5.2</td>\n",
       "    </tr>\n",
       "    <tr>\n",
       "      <th>1</th>\n",
       "      <td>2</td>\n",
       "      <td>58680.9</td>\n",
       "      <td>+4.09034e+08ns</td>\n",
       "      <td>41</td>\n",
       "      <td>58</td>\n",
       "      <td>+3.19102e+12ns</td>\n",
       "      <td>8803</td>\n",
       "      <td>5187</td>\n",
       "      <td>3616</td>\n",
       "      <td>10.0.1.1</td>\n",
       "      <td>10.2.5.2</td>\n",
       "    </tr>\n",
       "    <tr>\n",
       "      <th>2</th>\n",
       "      <td>3</td>\n",
       "      <td>58582.0</td>\n",
       "      <td>+4.08609e+08ns</td>\n",
       "      <td>41</td>\n",
       "      <td>58</td>\n",
       "      <td>+5.2627e+12ns</td>\n",
       "      <td>8803</td>\n",
       "      <td>5178</td>\n",
       "      <td>3625</td>\n",
       "      <td>10.0.1.1</td>\n",
       "      <td>10.2.5.2</td>\n",
       "    </tr>\n",
       "    <tr>\n",
       "      <th>3</th>\n",
       "      <td>4</td>\n",
       "      <td>58640.7</td>\n",
       "      <td>+4.07014e+08ns</td>\n",
       "      <td>41</td>\n",
       "      <td>58</td>\n",
       "      <td>+7.31597e+12ns</td>\n",
       "      <td>8803</td>\n",
       "      <td>5183</td>\n",
       "      <td>3620</td>\n",
       "      <td>10.0.1.1</td>\n",
       "      <td>10.2.5.2</td>\n",
       "    </tr>\n",
       "    <tr>\n",
       "      <th>4</th>\n",
       "      <td>5</td>\n",
       "      <td>58523.6</td>\n",
       "      <td>+4.11754e+08ns</td>\n",
       "      <td>41</td>\n",
       "      <td>58</td>\n",
       "      <td>+9.31583e+12ns</td>\n",
       "      <td>8803</td>\n",
       "      <td>5172</td>\n",
       "      <td>3631</td>\n",
       "      <td>10.0.1.1</td>\n",
       "      <td>10.2.5.2</td>\n",
       "    </tr>\n",
       "    <tr>\n",
       "      <th>5</th>\n",
       "      <td>6</td>\n",
       "      <td>58674.2</td>\n",
       "      <td>+7.81356e+08ns</td>\n",
       "      <td>41</td>\n",
       "      <td>58</td>\n",
       "      <td>+1.03385e+13ns</td>\n",
       "      <td>8802</td>\n",
       "      <td>5185</td>\n",
       "      <td>3617</td>\n",
       "      <td>10.0.1.1</td>\n",
       "      <td>10.2.5.2</td>\n",
       "    </tr>\n",
       "    <tr>\n",
       "      <th>6</th>\n",
       "      <td>7</td>\n",
       "      <td>58639.9</td>\n",
       "      <td>+7.88867e+08ns</td>\n",
       "      <td>41</td>\n",
       "      <td>58</td>\n",
       "      <td>+1.02411e+13ns</td>\n",
       "      <td>8803</td>\n",
       "      <td>5183</td>\n",
       "      <td>3620</td>\n",
       "      <td>10.0.1.1</td>\n",
       "      <td>10.2.5.2</td>\n",
       "    </tr>\n",
       "    <tr>\n",
       "      <th>7</th>\n",
       "      <td>8</td>\n",
       "      <td>58617.8</td>\n",
       "      <td>+7.90815e+08ns</td>\n",
       "      <td>41</td>\n",
       "      <td>58</td>\n",
       "      <td>+1.01422e+13ns</td>\n",
       "      <td>8803</td>\n",
       "      <td>5181</td>\n",
       "      <td>3622</td>\n",
       "      <td>10.0.1.1</td>\n",
       "      <td>10.2.5.2</td>\n",
       "    </tr>\n",
       "    <tr>\n",
       "      <th>8</th>\n",
       "      <td>9</td>\n",
       "      <td>58625.0</td>\n",
       "      <td>+7.88323e+08ns</td>\n",
       "      <td>41</td>\n",
       "      <td>58</td>\n",
       "      <td>+1.00549e+13ns</td>\n",
       "      <td>8803</td>\n",
       "      <td>5182</td>\n",
       "      <td>3621</td>\n",
       "      <td>10.0.1.1</td>\n",
       "      <td>10.2.5.2</td>\n",
       "    </tr>\n",
       "    <tr>\n",
       "      <th>9</th>\n",
       "      <td>10</td>\n",
       "      <td>58565.0</td>\n",
       "      <td>+7.87493e+08ns</td>\n",
       "      <td>41</td>\n",
       "      <td>58</td>\n",
       "      <td>+9.95847e+12ns</td>\n",
       "      <td>8803</td>\n",
       "      <td>5176</td>\n",
       "      <td>3627</td>\n",
       "      <td>10.0.1.1</td>\n",
       "      <td>10.2.5.2</td>\n",
       "    </tr>\n",
       "  </tbody>\n",
       "</table>\n",
       "</div>"
      ],
      "text/plain": [
       "   dist     kbps     jitter_mics  plr  pdr      delay_mics  pkt_sent  pkt_rcv  \\\n",
       "0     1  58205.3   +4.0836e+08ns   41   58  +1.08006e+12ns      8802     5144   \n",
       "1     2  58680.9  +4.09034e+08ns   41   58  +3.19102e+12ns      8803     5187   \n",
       "2     3  58582.0  +4.08609e+08ns   41   58   +5.2627e+12ns      8803     5178   \n",
       "3     4  58640.7  +4.07014e+08ns   41   58  +7.31597e+12ns      8803     5183   \n",
       "4     5  58523.6  +4.11754e+08ns   41   58  +9.31583e+12ns      8803     5172   \n",
       "5     6  58674.2  +7.81356e+08ns   41   58  +1.03385e+13ns      8802     5185   \n",
       "6     7  58639.9  +7.88867e+08ns   41   58  +1.02411e+13ns      8803     5183   \n",
       "7     8  58617.8  +7.90815e+08ns   41   58  +1.01422e+13ns      8803     5181   \n",
       "8     9  58625.0  +7.88323e+08ns   41   58  +1.00549e+13ns      8803     5182   \n",
       "9    10  58565.0  +7.87493e+08ns   41   58  +9.95847e+12ns      8803     5176   \n",
       "\n",
       "   pkt_loss    source      dest  \n",
       "0      3658  10.0.1.1  10.2.5.2  \n",
       "1      3616  10.0.1.1  10.2.5.2  \n",
       "2      3625  10.0.1.1  10.2.5.2  \n",
       "3      3620  10.0.1.1  10.2.5.2  \n",
       "4      3631  10.0.1.1  10.2.5.2  \n",
       "5      3617  10.0.1.1  10.2.5.2  \n",
       "6      3620  10.0.1.1  10.2.5.2  \n",
       "7      3622  10.0.1.1  10.2.5.2  \n",
       "8      3621  10.0.1.1  10.2.5.2  \n",
       "9      3627  10.0.1.1  10.2.5.2  "
      ]
     },
     "metadata": {},
     "output_type": "display_data"
    }
   ],
   "source": [
    "#Loading UDP CSVs\n",
    "folderName = \"baseline-udp-onoff/2024-01-18_11:30:26\"\n",
    "udpClientCsv = f'../../build/scratch/experiment/{folderName}/udp-flow0-client.csv'\n",
    "udpClientDf_1 = pd.read_csv(udpClientCsv)\n",
    "\n",
    "folderName = \"baseline-udp-onoff/2024-01-18_12:10:22\"\n",
    "udpClientCsv = f'../../build/scratch/experiment/{folderName}/udp-flow0-client.csv'\n",
    "udpClientDf_2 = pd.read_csv(udpClientCsv)\n",
    "\n",
    "folderName = \"baseline-udp-onoff/2024-01-18_12:14:16\"\n",
    "udpClientCsv = f'../../build/scratch/experiment/{folderName}/udp-flow0-client.csv'\n",
    "udpClientDf_3 = pd.read_csv(udpClientCsv)\n",
    "\n",
    "display(udpClientDf_1.head(10))\n",
    "display(udpClientDf_2.head(10))\n",
    "display(udpClientDf_3.head(10))"
   ]
  },
  {
   "cell_type": "code",
   "execution_count": 9,
   "id": "e1c6a97a-2a5d-4383-8e11-85ce157e6ac1",
   "metadata": {
    "collapsed": true,
    "jupyter": {
     "outputs_hidden": true
    }
   },
   "outputs": [
    {
     "data": {
      "application/vnd.plotly.v1+json": {
       "config": {
        "plotlyServerURL": "https://plot.ly"
       },
       "data": [
        {
         "hovertemplate": "Index=%{x}<br>kbps=%{y}<extra></extra>",
         "legendgroup": "",
         "line": {
          "color": "#636efa",
          "dash": "solid"
         },
         "marker": {
          "symbol": "circle"
         },
         "mode": "lines",
         "name": "",
         "orientation": "v",
         "showlegend": false,
         "type": "scatter",
         "x": [
          0,
          1,
          2,
          3,
          4,
          5,
          6,
          7,
          8,
          9,
          10,
          11,
          12,
          13,
          14,
          15,
          16,
          17,
          18,
          19,
          20,
          21,
          22,
          23,
          24,
          25,
          26,
          27,
          28,
          29,
          30,
          31,
          32,
          33,
          34,
          35,
          36,
          37,
          38,
          39,
          40,
          41,
          42,
          43,
          44,
          45,
          46,
          47,
          48,
          49,
          50,
          51,
          52,
          53,
          54,
          55,
          56,
          57,
          58,
          59
         ],
         "xaxis": "x",
         "y": [
          58205.3,
          58680.9,
          58582,
          58640.7,
          58523.6,
          58674.2,
          58639.9,
          58617.8,
          58625,
          58565,
          58714.7,
          58662.9,
          58366.4,
          58628.2,
          58709.2,
          58641.3,
          58644.3,
          58666.1,
          58698.2,
          58614.9,
          58557.9,
          58652.9,
          58544.3,
          58682,
          58583.2,
          58262.2,
          52762.1,
          52583.5,
          52378.8,
          46967.4,
          46783.1,
          46568.2,
          35395.8,
          35171.2,
          35151,
          35211.6,
          35154.7,
          35120.1,
          35137.6,
          35205.9,
          35172.8,
          35126.4,
          35058.5,
          35095,
          34931.8,
          23554.2,
          23394.5,
          23430.6,
          23415.3,
          23397,
          23396.9,
          26594.8,
          0,
          0,
          0,
          0,
          0,
          0,
          0,
          0
         ],
         "yaxis": "y"
        },
        {
         "hovertemplate": "index=%{x}<br>kbps=%{y}<extra></extra>",
         "legendgroup": "",
         "line": {
          "color": "#636efa",
          "dash": "solid"
         },
         "marker": {
          "symbol": "circle"
         },
         "mode": "lines",
         "name": "",
         "orientation": "v",
         "showlegend": false,
         "type": "scatter",
         "x": [
          0,
          1,
          2,
          3,
          4,
          5,
          6,
          7,
          8,
          9,
          10,
          11,
          12,
          13,
          14,
          15,
          16,
          17,
          18,
          19,
          20,
          21,
          22,
          23,
          24,
          25,
          26,
          27,
          28,
          29,
          30,
          31,
          32,
          33,
          34,
          35,
          36,
          37,
          38,
          39,
          40,
          41,
          42,
          43,
          44,
          45,
          46,
          47,
          48,
          49,
          50,
          51,
          52,
          53,
          54,
          55,
          56,
          57,
          58,
          59
         ],
         "xaxis": "x",
         "y": [
          58205.3,
          58680.9,
          58582,
          58640.7,
          58523.6,
          58674.2,
          58639.9,
          58617.8,
          58625,
          58565,
          58714.7,
          58662.9,
          58366.4,
          58628.2,
          58709.2,
          58641.3,
          58644.3,
          58666.1,
          58698.2,
          58614.9,
          58557.9,
          58652.9,
          58544.3,
          58682,
          58583.2,
          58262.2,
          52762.1,
          52583.5,
          52378.8,
          46967.4,
          46783.1,
          46568.2,
          35395.8,
          35171.2,
          35151,
          35211.6,
          35154.7,
          35120.1,
          35137.6,
          35205.9,
          35172.8,
          35126.4,
          35058.5,
          35095,
          34931.8,
          23554.2,
          23394.5,
          23430.6,
          23415.3,
          23397,
          23396.9,
          26594.8,
          0,
          0,
          0,
          0,
          0,
          0,
          0,
          0
         ],
         "yaxis": "y"
        },
        {
         "hovertemplate": "index=%{x}<br>kbps=%{y}<extra></extra>",
         "legendgroup": "",
         "line": {
          "color": "#636efa",
          "dash": "solid"
         },
         "marker": {
          "symbol": "circle"
         },
         "mode": "lines",
         "name": "",
         "orientation": "v",
         "showlegend": false,
         "type": "scatter",
         "x": [
          0,
          1,
          2,
          3,
          4,
          5,
          6,
          7,
          8,
          9,
          10,
          11,
          12,
          13,
          14,
          15,
          16,
          17,
          18,
          19,
          20,
          21,
          22,
          23,
          24,
          25,
          26,
          27,
          28,
          29,
          30,
          31,
          32,
          33,
          34,
          35,
          36,
          37,
          38,
          39,
          40,
          41,
          42,
          43,
          44,
          45,
          46,
          47,
          48,
          49,
          50,
          51,
          52,
          53,
          54,
          55,
          56,
          57,
          58,
          59
         ],
         "xaxis": "x",
         "y": [
          58205.3,
          58680.9,
          58582,
          58640.7,
          58523.6,
          58674.2,
          58639.9,
          58617.8,
          58625,
          58565,
          58714.7,
          58662.9,
          58366.4,
          58628.2,
          58709.2,
          58641.3,
          58644.3,
          58666.1,
          58698.2,
          58614.9,
          58557.9,
          58652.9,
          58544.3,
          58682,
          58583.2,
          58262.2,
          52762.1,
          52583.5,
          52378.8,
          46967.4,
          46783.1,
          46568.2,
          35395.8,
          35171.2,
          35151,
          35211.6,
          35154.7,
          35120.1,
          35137.6,
          35205.9,
          35172.8,
          35126.4,
          35058.5,
          35095,
          34931.8,
          23554.2,
          23394.5,
          23430.6,
          23415.3,
          23397,
          23396.9,
          26594.8,
          0,
          0,
          0,
          0,
          0,
          0,
          0,
          0
         ],
         "yaxis": "y"
        }
       ],
       "layout": {
        "autosize": true,
        "legend": {
         "tracegroupgap": 0
        },
        "template": {
         "data": {
          "bar": [
           {
            "error_x": {
             "color": "#2a3f5f"
            },
            "error_y": {
             "color": "#2a3f5f"
            },
            "marker": {
             "line": {
              "color": "#E5ECF6",
              "width": 0.5
             },
             "pattern": {
              "fillmode": "overlay",
              "size": 10,
              "solidity": 0.2
             }
            },
            "type": "bar"
           }
          ],
          "barpolar": [
           {
            "marker": {
             "line": {
              "color": "#E5ECF6",
              "width": 0.5
             },
             "pattern": {
              "fillmode": "overlay",
              "size": 10,
              "solidity": 0.2
             }
            },
            "type": "barpolar"
           }
          ],
          "carpet": [
           {
            "aaxis": {
             "endlinecolor": "#2a3f5f",
             "gridcolor": "white",
             "linecolor": "white",
             "minorgridcolor": "white",
             "startlinecolor": "#2a3f5f"
            },
            "baxis": {
             "endlinecolor": "#2a3f5f",
             "gridcolor": "white",
             "linecolor": "white",
             "minorgridcolor": "white",
             "startlinecolor": "#2a3f5f"
            },
            "type": "carpet"
           }
          ],
          "choropleth": [
           {
            "colorbar": {
             "outlinewidth": 0,
             "ticks": ""
            },
            "type": "choropleth"
           }
          ],
          "contour": [
           {
            "colorbar": {
             "outlinewidth": 0,
             "ticks": ""
            },
            "colorscale": [
             [
              0,
              "#0d0887"
             ],
             [
              0.1111111111111111,
              "#46039f"
             ],
             [
              0.2222222222222222,
              "#7201a8"
             ],
             [
              0.3333333333333333,
              "#9c179e"
             ],
             [
              0.4444444444444444,
              "#bd3786"
             ],
             [
              0.5555555555555556,
              "#d8576b"
             ],
             [
              0.6666666666666666,
              "#ed7953"
             ],
             [
              0.7777777777777778,
              "#fb9f3a"
             ],
             [
              0.8888888888888888,
              "#fdca26"
             ],
             [
              1,
              "#f0f921"
             ]
            ],
            "type": "contour"
           }
          ],
          "contourcarpet": [
           {
            "colorbar": {
             "outlinewidth": 0,
             "ticks": ""
            },
            "type": "contourcarpet"
           }
          ],
          "heatmap": [
           {
            "colorbar": {
             "outlinewidth": 0,
             "ticks": ""
            },
            "colorscale": [
             [
              0,
              "#0d0887"
             ],
             [
              0.1111111111111111,
              "#46039f"
             ],
             [
              0.2222222222222222,
              "#7201a8"
             ],
             [
              0.3333333333333333,
              "#9c179e"
             ],
             [
              0.4444444444444444,
              "#bd3786"
             ],
             [
              0.5555555555555556,
              "#d8576b"
             ],
             [
              0.6666666666666666,
              "#ed7953"
             ],
             [
              0.7777777777777778,
              "#fb9f3a"
             ],
             [
              0.8888888888888888,
              "#fdca26"
             ],
             [
              1,
              "#f0f921"
             ]
            ],
            "type": "heatmap"
           }
          ],
          "heatmapgl": [
           {
            "colorbar": {
             "outlinewidth": 0,
             "ticks": ""
            },
            "colorscale": [
             [
              0,
              "#0d0887"
             ],
             [
              0.1111111111111111,
              "#46039f"
             ],
             [
              0.2222222222222222,
              "#7201a8"
             ],
             [
              0.3333333333333333,
              "#9c179e"
             ],
             [
              0.4444444444444444,
              "#bd3786"
             ],
             [
              0.5555555555555556,
              "#d8576b"
             ],
             [
              0.6666666666666666,
              "#ed7953"
             ],
             [
              0.7777777777777778,
              "#fb9f3a"
             ],
             [
              0.8888888888888888,
              "#fdca26"
             ],
             [
              1,
              "#f0f921"
             ]
            ],
            "type": "heatmapgl"
           }
          ],
          "histogram": [
           {
            "marker": {
             "pattern": {
              "fillmode": "overlay",
              "size": 10,
              "solidity": 0.2
             }
            },
            "type": "histogram"
           }
          ],
          "histogram2d": [
           {
            "colorbar": {
             "outlinewidth": 0,
             "ticks": ""
            },
            "colorscale": [
             [
              0,
              "#0d0887"
             ],
             [
              0.1111111111111111,
              "#46039f"
             ],
             [
              0.2222222222222222,
              "#7201a8"
             ],
             [
              0.3333333333333333,
              "#9c179e"
             ],
             [
              0.4444444444444444,
              "#bd3786"
             ],
             [
              0.5555555555555556,
              "#d8576b"
             ],
             [
              0.6666666666666666,
              "#ed7953"
             ],
             [
              0.7777777777777778,
              "#fb9f3a"
             ],
             [
              0.8888888888888888,
              "#fdca26"
             ],
             [
              1,
              "#f0f921"
             ]
            ],
            "type": "histogram2d"
           }
          ],
          "histogram2dcontour": [
           {
            "colorbar": {
             "outlinewidth": 0,
             "ticks": ""
            },
            "colorscale": [
             [
              0,
              "#0d0887"
             ],
             [
              0.1111111111111111,
              "#46039f"
             ],
             [
              0.2222222222222222,
              "#7201a8"
             ],
             [
              0.3333333333333333,
              "#9c179e"
             ],
             [
              0.4444444444444444,
              "#bd3786"
             ],
             [
              0.5555555555555556,
              "#d8576b"
             ],
             [
              0.6666666666666666,
              "#ed7953"
             ],
             [
              0.7777777777777778,
              "#fb9f3a"
             ],
             [
              0.8888888888888888,
              "#fdca26"
             ],
             [
              1,
              "#f0f921"
             ]
            ],
            "type": "histogram2dcontour"
           }
          ],
          "mesh3d": [
           {
            "colorbar": {
             "outlinewidth": 0,
             "ticks": ""
            },
            "type": "mesh3d"
           }
          ],
          "parcoords": [
           {
            "line": {
             "colorbar": {
              "outlinewidth": 0,
              "ticks": ""
             }
            },
            "type": "parcoords"
           }
          ],
          "pie": [
           {
            "automargin": true,
            "type": "pie"
           }
          ],
          "scatter": [
           {
            "fillpattern": {
             "fillmode": "overlay",
             "size": 10,
             "solidity": 0.2
            },
            "type": "scatter"
           }
          ],
          "scatter3d": [
           {
            "line": {
             "colorbar": {
              "outlinewidth": 0,
              "ticks": ""
             }
            },
            "marker": {
             "colorbar": {
              "outlinewidth": 0,
              "ticks": ""
             }
            },
            "type": "scatter3d"
           }
          ],
          "scattercarpet": [
           {
            "marker": {
             "colorbar": {
              "outlinewidth": 0,
              "ticks": ""
             }
            },
            "type": "scattercarpet"
           }
          ],
          "scattergeo": [
           {
            "marker": {
             "colorbar": {
              "outlinewidth": 0,
              "ticks": ""
             }
            },
            "type": "scattergeo"
           }
          ],
          "scattergl": [
           {
            "marker": {
             "colorbar": {
              "outlinewidth": 0,
              "ticks": ""
             }
            },
            "type": "scattergl"
           }
          ],
          "scattermapbox": [
           {
            "marker": {
             "colorbar": {
              "outlinewidth": 0,
              "ticks": ""
             }
            },
            "type": "scattermapbox"
           }
          ],
          "scatterpolar": [
           {
            "marker": {
             "colorbar": {
              "outlinewidth": 0,
              "ticks": ""
             }
            },
            "type": "scatterpolar"
           }
          ],
          "scatterpolargl": [
           {
            "marker": {
             "colorbar": {
              "outlinewidth": 0,
              "ticks": ""
             }
            },
            "type": "scatterpolargl"
           }
          ],
          "scatterternary": [
           {
            "marker": {
             "colorbar": {
              "outlinewidth": 0,
              "ticks": ""
             }
            },
            "type": "scatterternary"
           }
          ],
          "surface": [
           {
            "colorbar": {
             "outlinewidth": 0,
             "ticks": ""
            },
            "colorscale": [
             [
              0,
              "#0d0887"
             ],
             [
              0.1111111111111111,
              "#46039f"
             ],
             [
              0.2222222222222222,
              "#7201a8"
             ],
             [
              0.3333333333333333,
              "#9c179e"
             ],
             [
              0.4444444444444444,
              "#bd3786"
             ],
             [
              0.5555555555555556,
              "#d8576b"
             ],
             [
              0.6666666666666666,
              "#ed7953"
             ],
             [
              0.7777777777777778,
              "#fb9f3a"
             ],
             [
              0.8888888888888888,
              "#fdca26"
             ],
             [
              1,
              "#f0f921"
             ]
            ],
            "type": "surface"
           }
          ],
          "table": [
           {
            "cells": {
             "fill": {
              "color": "#EBF0F8"
             },
             "line": {
              "color": "white"
             }
            },
            "header": {
             "fill": {
              "color": "#C8D4E3"
             },
             "line": {
              "color": "white"
             }
            },
            "type": "table"
           }
          ]
         },
         "layout": {
          "annotationdefaults": {
           "arrowcolor": "#2a3f5f",
           "arrowhead": 0,
           "arrowwidth": 1
          },
          "autotypenumbers": "strict",
          "coloraxis": {
           "colorbar": {
            "outlinewidth": 0,
            "ticks": ""
           }
          },
          "colorscale": {
           "diverging": [
            [
             0,
             "#8e0152"
            ],
            [
             0.1,
             "#c51b7d"
            ],
            [
             0.2,
             "#de77ae"
            ],
            [
             0.3,
             "#f1b6da"
            ],
            [
             0.4,
             "#fde0ef"
            ],
            [
             0.5,
             "#f7f7f7"
            ],
            [
             0.6,
             "#e6f5d0"
            ],
            [
             0.7,
             "#b8e186"
            ],
            [
             0.8,
             "#7fbc41"
            ],
            [
             0.9,
             "#4d9221"
            ],
            [
             1,
             "#276419"
            ]
           ],
           "sequential": [
            [
             0,
             "#0d0887"
            ],
            [
             0.1111111111111111,
             "#46039f"
            ],
            [
             0.2222222222222222,
             "#7201a8"
            ],
            [
             0.3333333333333333,
             "#9c179e"
            ],
            [
             0.4444444444444444,
             "#bd3786"
            ],
            [
             0.5555555555555556,
             "#d8576b"
            ],
            [
             0.6666666666666666,
             "#ed7953"
            ],
            [
             0.7777777777777778,
             "#fb9f3a"
            ],
            [
             0.8888888888888888,
             "#fdca26"
            ],
            [
             1,
             "#f0f921"
            ]
           ],
           "sequentialminus": [
            [
             0,
             "#0d0887"
            ],
            [
             0.1111111111111111,
             "#46039f"
            ],
            [
             0.2222222222222222,
             "#7201a8"
            ],
            [
             0.3333333333333333,
             "#9c179e"
            ],
            [
             0.4444444444444444,
             "#bd3786"
            ],
            [
             0.5555555555555556,
             "#d8576b"
            ],
            [
             0.6666666666666666,
             "#ed7953"
            ],
            [
             0.7777777777777778,
             "#fb9f3a"
            ],
            [
             0.8888888888888888,
             "#fdca26"
            ],
            [
             1,
             "#f0f921"
            ]
           ]
          },
          "colorway": [
           "#636efa",
           "#EF553B",
           "#00cc96",
           "#ab63fa",
           "#FFA15A",
           "#19d3f3",
           "#FF6692",
           "#B6E880",
           "#FF97FF",
           "#FECB52"
          ],
          "font": {
           "color": "#2a3f5f"
          },
          "geo": {
           "bgcolor": "white",
           "lakecolor": "white",
           "landcolor": "#E5ECF6",
           "showlakes": true,
           "showland": true,
           "subunitcolor": "white"
          },
          "hoverlabel": {
           "align": "left"
          },
          "hovermode": "closest",
          "mapbox": {
           "style": "light"
          },
          "paper_bgcolor": "white",
          "plot_bgcolor": "#E5ECF6",
          "polar": {
           "angularaxis": {
            "gridcolor": "white",
            "linecolor": "white",
            "ticks": ""
           },
           "bgcolor": "#E5ECF6",
           "radialaxis": {
            "gridcolor": "white",
            "linecolor": "white",
            "ticks": ""
           }
          },
          "scene": {
           "xaxis": {
            "backgroundcolor": "#E5ECF6",
            "gridcolor": "white",
            "gridwidth": 2,
            "linecolor": "white",
            "showbackground": true,
            "ticks": "",
            "zerolinecolor": "white"
           },
           "yaxis": {
            "backgroundcolor": "#E5ECF6",
            "gridcolor": "white",
            "gridwidth": 2,
            "linecolor": "white",
            "showbackground": true,
            "ticks": "",
            "zerolinecolor": "white"
           },
           "zaxis": {
            "backgroundcolor": "#E5ECF6",
            "gridcolor": "white",
            "gridwidth": 2,
            "linecolor": "white",
            "showbackground": true,
            "ticks": "",
            "zerolinecolor": "white"
           }
          },
          "shapedefaults": {
           "line": {
            "color": "#2a3f5f"
           }
          },
          "ternary": {
           "aaxis": {
            "gridcolor": "white",
            "linecolor": "white",
            "ticks": ""
           },
           "baxis": {
            "gridcolor": "white",
            "linecolor": "white",
            "ticks": ""
           },
           "bgcolor": "#E5ECF6",
           "caxis": {
            "gridcolor": "white",
            "linecolor": "white",
            "ticks": ""
           }
          },
          "title": {
           "x": 0.05
          },
          "xaxis": {
           "automargin": true,
           "gridcolor": "white",
           "linecolor": "white",
           "ticks": "",
           "title": {
            "standoff": 15
           },
           "zerolinecolor": "white",
           "zerolinewidth": 2
          },
          "yaxis": {
           "automargin": true,
           "gridcolor": "white",
           "linecolor": "white",
           "ticks": "",
           "title": {
            "standoff": 15
           },
           "zerolinecolor": "white",
           "zerolinewidth": 2
          }
         }
        },
        "title": {
         "text": "kbps values over index"
        },
        "xaxis": {
         "anchor": "y",
         "autorange": true,
         "domain": [
          0,
          1
         ],
         "range": [
          0,
          59
         ],
         "title": {
          "text": "Index"
         },
         "type": "linear"
        },
        "yaxis": {
         "anchor": "x",
         "autorange": true,
         "domain": [
          0,
          1
         ],
         "range": [
          -3261.927777777778,
          61976.62777777777
         ],
         "title": {
          "text": "kbps"
         },
         "type": "linear"
        }
       }
      },
      "image/png": "[encoded data removed]",
      "text/html": [
       "<div>                            <div id=\"170465f0-05b4-411e-a4d0-632ecb9600e2\" class=\"plotly-graph-div\" style=\"height:800px; width:100%;\"></div>            <script type=\"text/javascript\">                require([\"plotly\"], function(Plotly) {                    window.PLOTLYENV=window.PLOTLYENV || {};                                    if (document.getElementById(\"170465f0-05b4-411e-a4d0-632ecb9600e2\")) {                    Plotly.newPlot(                        \"170465f0-05b4-411e-a4d0-632ecb9600e2\",                        [{\"hovertemplate\":\"Index=%{x}\\u003cbr\\u003ekbps=%{y}\\u003cextra\\u003e\\u003c\\u002fextra\\u003e\",\"legendgroup\":\"\",\"line\":{\"color\":\"#636efa\",\"dash\":\"solid\"},\"marker\":{\"symbol\":\"circle\"},\"mode\":\"lines\",\"name\":\"\",\"orientation\":\"v\",\"showlegend\":false,\"x\":[0,1,2,3,4,5,6,7,8,9,10,11,12,13,14,15,16,17,18,19,20,21,22,23,24,25,26,27,28,29,30,31,32,33,34,35,36,37,38,39,40,41,42,43,44,45,46,47,48,49,50,51,52,53,54,55,56,57,58,59],\"xaxis\":\"x\",\"y\":[58205.3,58680.9,58582.0,58640.7,58523.6,58674.2,58639.9,58617.8,58625.0,58565.0,58714.7,58662.9,58366.4,58628.2,58709.2,58641.3,58644.3,58666.1,58698.2,58614.9,58557.9,58652.9,58544.3,58682.0,58583.2,58262.2,52762.1,52583.5,52378.8,46967.4,46783.1,46568.2,35395.8,35171.2,35151.0,35211.6,35154.7,35120.1,35137.6,35205.9,35172.8,35126.4,35058.5,35095.0,34931.8,23554.2,23394.5,23430.6,23415.3,23397.0,23396.9,26594.8,-0.0,-0.0,-0.0,-0.0,-0.0,-0.0,-0.0,-0.0],\"yaxis\":\"y\",\"type\":\"scatter\"},{\"hovertemplate\":\"index=%{x}\\u003cbr\\u003ekbps=%{y}\\u003cextra\\u003e\\u003c\\u002fextra\\u003e\",\"legendgroup\":\"\",\"line\":{\"color\":\"#636efa\",\"dash\":\"solid\"},\"marker\":{\"symbol\":\"circle\"},\"mode\":\"lines\",\"name\":\"\",\"orientation\":\"v\",\"showlegend\":false,\"x\":[0,1,2,3,4,5,6,7,8,9,10,11,12,13,14,15,16,17,18,19,20,21,22,23,24,25,26,27,28,29,30,31,32,33,34,35,36,37,38,39,40,41,42,43,44,45,46,47,48,49,50,51,52,53,54,55,56,57,58,59],\"xaxis\":\"x\",\"y\":[58205.3,58680.9,58582.0,58640.7,58523.6,58674.2,58639.9,58617.8,58625.0,58565.0,58714.7,58662.9,58366.4,58628.2,58709.2,58641.3,58644.3,58666.1,58698.2,58614.9,58557.9,58652.9,58544.3,58682.0,58583.2,58262.2,52762.1,52583.5,52378.8,46967.4,46783.1,46568.2,35395.8,35171.2,35151.0,35211.6,35154.7,35120.1,35137.6,35205.9,35172.8,35126.4,35058.5,35095.0,34931.8,23554.2,23394.5,23430.6,23415.3,23397.0,23396.9,26594.8,-0.0,-0.0,-0.0,-0.0,-0.0,-0.0,-0.0,-0.0],\"yaxis\":\"y\",\"type\":\"scatter\"},{\"hovertemplate\":\"index=%{x}\\u003cbr\\u003ekbps=%{y}\\u003cextra\\u003e\\u003c\\u002fextra\\u003e\",\"legendgroup\":\"\",\"line\":{\"color\":\"#636efa\",\"dash\":\"solid\"},\"marker\":{\"symbol\":\"circle\"},\"mode\":\"lines\",\"name\":\"\",\"orientation\":\"v\",\"showlegend\":false,\"x\":[0,1,2,3,4,5,6,7,8,9,10,11,12,13,14,15,16,17,18,19,20,21,22,23,24,25,26,27,28,29,30,31,32,33,34,35,36,37,38,39,40,41,42,43,44,45,46,47,48,49,50,51,52,53,54,55,56,57,58,59],\"xaxis\":\"x\",\"y\":[58205.3,58680.9,58582.0,58640.7,58523.6,58674.2,58639.9,58617.8,58625.0,58565.0,58714.7,58662.9,58366.4,58628.2,58709.2,58641.3,58644.3,58666.1,58698.2,58614.9,58557.9,58652.9,58544.3,58682.0,58583.2,58262.2,52762.1,52583.5,52378.8,46967.4,46783.1,46568.2,35395.8,35171.2,35151.0,35211.6,35154.7,35120.1,35137.6,35205.9,35172.8,35126.4,35058.5,35095.0,34931.8,23554.2,23394.5,23430.6,23415.3,23397.0,23396.9,26594.8,-0.0,-0.0,-0.0,-0.0,-0.0,-0.0,-0.0,-0.0],\"yaxis\":\"y\",\"type\":\"scatter\"}],                        {\"template\":{\"data\":{\"histogram2dcontour\":[{\"type\":\"histogram2dcontour\",\"colorbar\":{\"outlinewidth\":0,\"ticks\":\"\"},\"colorscale\":[[0.0,\"#0d0887\"],[0.1111111111111111,\"#46039f\"],[0.2222222222222222,\"#7201a8\"],[0.3333333333333333,\"#9c179e\"],[0.4444444444444444,\"#bd3786\"],[0.5555555555555556,\"#d8576b\"],[0.6666666666666666,\"#ed7953\"],[0.7777777777777778,\"#fb9f3a\"],[0.8888888888888888,\"#fdca26\"],[1.0,\"#f0f921\"]]}],\"choropleth\":[{\"type\":\"choropleth\",\"colorbar\":{\"outlinewidth\":0,\"ticks\":\"\"}}],\"histogram2d\":[{\"type\":\"histogram2d\",\"colorbar\":{\"outlinewidth\":0,\"ticks\":\"\"},\"colorscale\":[[0.0,\"#0d0887\"],[0.1111111111111111,\"#46039f\"],[0.2222222222222222,\"#7201a8\"],[0.3333333333333333,\"#9c179e\"],[0.4444444444444444,\"#bd3786\"],[0.5555555555555556,\"#d8576b\"],[0.6666666666666666,\"#ed7953\"],[0.7777777777777778,\"#fb9f3a\"],[0.8888888888888888,\"#fdca26\"],[1.0,\"#f0f921\"]]}],\"heatmap\":[{\"type\":\"heatmap\",\"colorbar\":{\"outlinewidth\":0,\"ticks\":\"\"},\"colorscale\":[[0.0,\"#0d0887\"],[0.1111111111111111,\"#46039f\"],[0.2222222222222222,\"#7201a8\"],[0.3333333333333333,\"#9c179e\"],[0.4444444444444444,\"#bd3786\"],[0.5555555555555556,\"#d8576b\"],[0.6666666666666666,\"#ed7953\"],[0.7777777777777778,\"#fb9f3a\"],[0.8888888888888888,\"#fdca26\"],[1.0,\"#f0f921\"]]}],\"heatmapgl\":[{\"type\":\"heatmapgl\",\"colorbar\":{\"outlinewidth\":0,\"ticks\":\"\"},\"colorscale\":[[0.0,\"#0d0887\"],[0.1111111111111111,\"#46039f\"],[0.2222222222222222,\"#7201a8\"],[0.3333333333333333,\"#9c179e\"],[0.4444444444444444,\"#bd3786\"],[0.5555555555555556,\"#d8576b\"],[0.6666666666666666,\"#ed7953\"],[0.7777777777777778,\"#fb9f3a\"],[0.8888888888888888,\"#fdca26\"],[1.0,\"#f0f921\"]]}],\"contourcarpet\":[{\"type\":\"contourcarpet\",\"colorbar\":{\"outlinewidth\":0,\"ticks\":\"\"}}],\"contour\":[{\"type\":\"contour\",\"colorbar\":{\"outlinewidth\":0,\"ticks\":\"\"},\"colorscale\":[[0.0,\"#0d0887\"],[0.1111111111111111,\"#46039f\"],[0.2222222222222222,\"#7201a8\"],[0.3333333333333333,\"#9c179e\"],[0.4444444444444444,\"#bd3786\"],[0.5555555555555556,\"#d8576b\"],[0.6666666666666666,\"#ed7953\"],[0.7777777777777778,\"#fb9f3a\"],[0.8888888888888888,\"#fdca26\"],[1.0,\"#f0f921\"]]}],\"surface\":[{\"type\":\"surface\",\"colorbar\":{\"outlinewidth\":0,\"ticks\":\"\"},\"colorscale\":[[0.0,\"#0d0887\"],[0.1111111111111111,\"#46039f\"],[0.2222222222222222,\"#7201a8\"],[0.3333333333333333,\"#9c179e\"],[0.4444444444444444,\"#bd3786\"],[0.5555555555555556,\"#d8576b\"],[0.6666666666666666,\"#ed7953\"],[0.7777777777777778,\"#fb9f3a\"],[0.8888888888888888,\"#fdca26\"],[1.0,\"#f0f921\"]]}],\"mesh3d\":[{\"type\":\"mesh3d\",\"colorbar\":{\"outlinewidth\":0,\"ticks\":\"\"}}],\"scatter\":[{\"fillpattern\":{\"fillmode\":\"overlay\",\"size\":10,\"solidity\":0.2},\"type\":\"scatter\"}],\"parcoords\":[{\"type\":\"parcoords\",\"line\":{\"colorbar\":{\"outlinewidth\":0,\"ticks\":\"\"}}}],\"scatterpolargl\":[{\"type\":\"scatterpolargl\",\"marker\":{\"colorbar\":{\"outlinewidth\":0,\"ticks\":\"\"}}}],\"bar\":[{\"error_x\":{\"color\":\"#2a3f5f\"},\"error_y\":{\"color\":\"#2a3f5f\"},\"marker\":{\"line\":{\"color\":\"#E5ECF6\",\"width\":0.5},\"pattern\":{\"fillmode\":\"overlay\",\"size\":10,\"solidity\":0.2}},\"type\":\"bar\"}],\"scattergeo\":[{\"type\":\"scattergeo\",\"marker\":{\"colorbar\":{\"outlinewidth\":0,\"ticks\":\"\"}}}],\"scatterpolar\":[{\"type\":\"scatterpolar\",\"marker\":{\"colorbar\":{\"outlinewidth\":0,\"ticks\":\"\"}}}],\"histogram\":[{\"marker\":{\"pattern\":{\"fillmode\":\"overlay\",\"size\":10,\"solidity\":0.2}},\"type\":\"histogram\"}],\"scattergl\":[{\"type\":\"scattergl\",\"marker\":{\"colorbar\":{\"outlinewidth\":0,\"ticks\":\"\"}}}],\"scatter3d\":[{\"type\":\"scatter3d\",\"line\":{\"colorbar\":{\"outlinewidth\":0,\"ticks\":\"\"}},\"marker\":{\"colorbar\":{\"outlinewidth\":0,\"ticks\":\"\"}}}],\"scattermapbox\":[{\"type\":\"scattermapbox\",\"marker\":{\"colorbar\":{\"outlinewidth\":0,\"ticks\":\"\"}}}],\"scatterternary\":[{\"type\":\"scatterternary\",\"marker\":{\"colorbar\":{\"outlinewidth\":0,\"ticks\":\"\"}}}],\"scattercarpet\":[{\"type\":\"scattercarpet\",\"marker\":{\"colorbar\":{\"outlinewidth\":0,\"ticks\":\"\"}}}],\"carpet\":[{\"aaxis\":{\"endlinecolor\":\"#2a3f5f\",\"gridcolor\":\"white\",\"linecolor\":\"white\",\"minorgridcolor\":\"white\",\"startlinecolor\":\"#2a3f5f\"},\"baxis\":{\"endlinecolor\":\"#2a3f5f\",\"gridcolor\":\"white\",\"linecolor\":\"white\",\"minorgridcolor\":\"white\",\"startlinecolor\":\"#2a3f5f\"},\"type\":\"carpet\"}],\"table\":[{\"cells\":{\"fill\":{\"color\":\"#EBF0F8\"},\"line\":{\"color\":\"white\"}},\"header\":{\"fill\":{\"color\":\"#C8D4E3\"},\"line\":{\"color\":\"white\"}},\"type\":\"table\"}],\"barpolar\":[{\"marker\":{\"line\":{\"color\":\"#E5ECF6\",\"width\":0.5},\"pattern\":{\"fillmode\":\"overlay\",\"size\":10,\"solidity\":0.2}},\"type\":\"barpolar\"}],\"pie\":[{\"automargin\":true,\"type\":\"pie\"}]},\"layout\":{\"autotypenumbers\":\"strict\",\"colorway\":[\"#636efa\",\"#EF553B\",\"#00cc96\",\"#ab63fa\",\"#FFA15A\",\"#19d3f3\",\"#FF6692\",\"#B6E880\",\"#FF97FF\",\"#FECB52\"],\"font\":{\"color\":\"#2a3f5f\"},\"hovermode\":\"closest\",\"hoverlabel\":{\"align\":\"left\"},\"paper_bgcolor\":\"white\",\"plot_bgcolor\":\"#E5ECF6\",\"polar\":{\"bgcolor\":\"#E5ECF6\",\"angularaxis\":{\"gridcolor\":\"white\",\"linecolor\":\"white\",\"ticks\":\"\"},\"radialaxis\":{\"gridcolor\":\"white\",\"linecolor\":\"white\",\"ticks\":\"\"}},\"ternary\":{\"bgcolor\":\"#E5ECF6\",\"aaxis\":{\"gridcolor\":\"white\",\"linecolor\":\"white\",\"ticks\":\"\"},\"baxis\":{\"gridcolor\":\"white\",\"linecolor\":\"white\",\"ticks\":\"\"},\"caxis\":{\"gridcolor\":\"white\",\"linecolor\":\"white\",\"ticks\":\"\"}},\"coloraxis\":{\"colorbar\":{\"outlinewidth\":0,\"ticks\":\"\"}},\"colorscale\":{\"sequential\":[[0.0,\"#0d0887\"],[0.1111111111111111,\"#46039f\"],[0.2222222222222222,\"#7201a8\"],[0.3333333333333333,\"#9c179e\"],[0.4444444444444444,\"#bd3786\"],[0.5555555555555556,\"#d8576b\"],[0.6666666666666666,\"#ed7953\"],[0.7777777777777778,\"#fb9f3a\"],[0.8888888888888888,\"#fdca26\"],[1.0,\"#f0f921\"]],\"sequentialminus\":[[0.0,\"#0d0887\"],[0.1111111111111111,\"#46039f\"],[0.2222222222222222,\"#7201a8\"],[0.3333333333333333,\"#9c179e\"],[0.4444444444444444,\"#bd3786\"],[0.5555555555555556,\"#d8576b\"],[0.6666666666666666,\"#ed7953\"],[0.7777777777777778,\"#fb9f3a\"],[0.8888888888888888,\"#fdca26\"],[1.0,\"#f0f921\"]],\"diverging\":[[0,\"#8e0152\"],[0.1,\"#c51b7d\"],[0.2,\"#de77ae\"],[0.3,\"#f1b6da\"],[0.4,\"#fde0ef\"],[0.5,\"#f7f7f7\"],[0.6,\"#e6f5d0\"],[0.7,\"#b8e186\"],[0.8,\"#7fbc41\"],[0.9,\"#4d9221\"],[1,\"#276419\"]]},\"xaxis\":{\"gridcolor\":\"white\",\"linecolor\":\"white\",\"ticks\":\"\",\"title\":{\"standoff\":15},\"zerolinecolor\":\"white\",\"automargin\":true,\"zerolinewidth\":2},\"yaxis\":{\"gridcolor\":\"white\",\"linecolor\":\"white\",\"ticks\":\"\",\"title\":{\"standoff\":15},\"zerolinecolor\":\"white\",\"automargin\":true,\"zerolinewidth\":2},\"scene\":{\"xaxis\":{\"backgroundcolor\":\"#E5ECF6\",\"gridcolor\":\"white\",\"linecolor\":\"white\",\"showbackground\":true,\"ticks\":\"\",\"zerolinecolor\":\"white\",\"gridwidth\":2},\"yaxis\":{\"backgroundcolor\":\"#E5ECF6\",\"gridcolor\":\"white\",\"linecolor\":\"white\",\"showbackground\":true,\"ticks\":\"\",\"zerolinecolor\":\"white\",\"gridwidth\":2},\"zaxis\":{\"backgroundcolor\":\"#E5ECF6\",\"gridcolor\":\"white\",\"linecolor\":\"white\",\"showbackground\":true,\"ticks\":\"\",\"zerolinecolor\":\"white\",\"gridwidth\":2}},\"shapedefaults\":{\"line\":{\"color\":\"#2a3f5f\"}},\"annotationdefaults\":{\"arrowcolor\":\"#2a3f5f\",\"arrowhead\":0,\"arrowwidth\":1},\"geo\":{\"bgcolor\":\"white\",\"landcolor\":\"#E5ECF6\",\"subunitcolor\":\"white\",\"showland\":true,\"showlakes\":true,\"lakecolor\":\"white\"},\"title\":{\"x\":0.05},\"mapbox\":{\"style\":\"light\"}}},\"xaxis\":{\"anchor\":\"y\",\"domain\":[0.0,1.0],\"title\":{\"text\":\"Index\"}},\"yaxis\":{\"anchor\":\"x\",\"domain\":[0.0,1.0],\"title\":{\"text\":\"kbps\"}},\"legend\":{\"tracegroupgap\":0},\"title\":{\"text\":\"kbps values over index\"},\"height\":800},                        {\"responsive\": true}                    ).then(function(){\n",
       "                            \n",
       "var gd = document.getElementById('170465f0-05b4-411e-a4d0-632ecb9600e2');\n",
       "var x = new MutationObserver(function (mutations, observer) {{\n",
       "        var display = window.getComputedStyle(gd).display;\n",
       "        if (!display || display === 'none') {{\n",
       "            console.log([gd, 'removed!']);\n",
       "            Plotly.purge(gd);\n",
       "            observer.disconnect();\n",
       "        }}\n",
       "}});\n",
       "\n",
       "// Listen for the removal of the full notebook cells\n",
       "var notebookContainer = gd.closest('#notebook-container');\n",
       "if (notebookContainer) {{\n",
       "    x.observe(notebookContainer, {childList: true});\n",
       "}}\n",
       "\n",
       "// Listen for the clearing of the current output cell\n",
       "var outputEl = gd.closest('.output');\n",
       "if (outputEl) {{\n",
       "    x.observe(outputEl, {childList: true});\n",
       "}}\n",
       "\n",
       "                        })                };                });            </script>        </div>"
      ]
     },
     "metadata": {},
     "output_type": "display_data"
    }
   ],
   "source": [
    "udpClientDf_1['kbps'] = pd.to_numeric(udpClientDf_1['kbps'], errors='coerce')\n",
    "udpClientDf_2['kbps'] = pd.to_numeric(udpClientDf_2['kbps'], errors='coerce')\n",
    "udpClientDf_3['kbps'] = pd.to_numeric(udpClientDf_3['kbps'], errors='coerce')\n",
    "\n",
    "fig = px.line(udpClientDf_1, x=udpClientDf_1.index, y='kbps', title='kbps values over index', labels={'index': 'Index', 'kbps': 'kbps'})\n",
    "fig.add_trace(px.line(udpClientDf_2, x=udpClientDf_2.index, y='kbps').data[0])\n",
    "fig.add_trace(px.line(udpClientDf_3, x=udpClientDf_3.index, y='kbps').data[0])\n",
    "fig.update_layout(height=800)\n",
    "fig.show()"
   ]
  },
  {
   "cell_type": "code",
   "execution_count": null,
   "id": "7e701efc-d15e-4c66-995d-dd0fabd326af",
   "metadata": {},
   "outputs": [],
   "source": [
    "#Loading TCP CSVs\n",
    "folderName = \"baseline-udp-onoff/2024-01-18_11:30:26\"\n",
    "udpClientCsv = f'../../build/scratch/experiment/{folderName}/udp-flow0-client.csv'\n",
    "udpClientDf_1 = pd.read_csv(udpClientCsv)\n",
    "\n",
    "folderName = \"baseline-udp-onoff/2024-01-18_12:10:22\"\n",
    "udpClientCsv = f'../../build/scratch/experiment/{folderName}/udp-flow0-client.csv'\n",
    "udpClientDf_2 = pd.read_csv(udpClientCsv)\n",
    "\n",
    "folderName = \"baseline-udp-onoff/2024-01-18_12:14:16\"\n",
    "udpClientCsv = f'../../build/scratch/experiment/{folderName}/udp-flow0-client.csv'\n",
    "udpClientDf_3 = pd.read_csv(udpClientCsv)\n",
    "\n",
    "display(udpClientDf_1.head(10))\n",
    "display(udpClientDf_2.head(10))\n",
    "display(udpClientDf_3.head(10))"
   ]
  }
 ],
 "metadata": {
  "kernelspec": {
   "display_name": "Python 3 (ipykernel)",
   "language": "python",
   "name": "python3"
  },
  "language_info": {
   "codemirror_mode": {
    "name": "ipython",
    "version": 3
   },
   "file_extension": ".py",
   "mimetype": "text/x-python",
   "name": "python",
   "nbconvert_exporter": "python",
   "pygments_lexer": "ipython3",
   "version": "3.11.6"
  }
 },
 "nbformat": 4,
 "nbformat_minor": 5
}
