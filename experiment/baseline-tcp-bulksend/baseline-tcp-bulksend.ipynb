{
 "cells": [
  {
   "cell_type": "code",
   "execution_count": null,
   "id": "5ca5af75-b7c1-4cb1-a8a6-a4a8ce9600a4",
   "metadata": {},
   "outputs": [],
   "source": []
  },
  {
   "cell_type": "code",
   "execution_count": 1,
   "id": "f884c162-5ead-4b1c-9a60-ceb3f9c4589a",
   "metadata": {},
   "outputs": [],
   "source": [
    "import pandas as pd\n",
    "import plotly.express as px\n",
    "from IPython.display import display"
   ]
  },
  {
   "cell_type": "code",
   "execution_count": null,
   "id": "cd6695b3-1435-451d-9c15-d08fab070c6d",
   "metadata": {},
   "outputs": [],
   "source": [
    "folderName = \"baseline-udp-onoff/2024-01-18_11:30:26\"\n",
    "\n",
    "udpClientCsv = f'../../../build/scratch/experiment/{folderName}/udp-flow0-client.csv'\n",
    "udpServerCsv = f'../../../build/scratch/experiment/{folderName}/udp-flow0-server.csv'\n",
    "\n",
    "udpClientDf = pd.read_csv(udpClientCsv)\n",
    "udpServerDf = pd.read_csv(udpServerCsv)\n",
    "\n",
    "display(udpClientDf.head())\n",
    "display(udpServerDf.head())"
   ]
  }
 ],
 "metadata": {
  "kernelspec": {
   "display_name": "Python 3 (ipykernel)",
   "language": "python",
   "name": "python3"
  },
  "language_info": {
   "codemirror_mode": {
    "name": "ipython",
    "version": 3
   },
   "file_extension": ".py",
   "mimetype": "text/x-python",
   "name": "python",
   "nbconvert_exporter": "python",
   "pygments_lexer": "ipython3",
   "version": "3.11.6"
  }
 },
 "nbformat": 4,
 "nbformat_minor": 5
}
